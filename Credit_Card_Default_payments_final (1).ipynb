{
  "nbformat": 4,
  "nbformat_minor": 0,
  "metadata": {
    "colab": {
      "name": "Credit_Card_Default_payments_final.ipynb",
      "version": "0.3.2",
      "provenance": [],
      "collapsed_sections": []
    },
    "language_info": {
      "codemirror_mode": {
        "name": "ipython",
        "version": 3
      },
      "file_extension": ".py",
      "mimetype": "text/x-python",
      "name": "python",
      "nbconvert_exporter": "python",
      "pygments_lexer": "ipython3",
      "version": "3.6.5"
    },
    "kernelspec": {
      "name": "python3",
      "display_name": "Python 3"
    },
    "accelerator": "GPU"
  },
  "cells": [
    {
      "cell_type": "code",
      "metadata": {
        "colab_type": "code",
        "id": "JyE5yADT7TH8",
        "colab": {}
      },
      "source": [
        ""
      ],
      "execution_count": 0,
      "outputs": []
    },
    {
      "cell_type": "code",
      "metadata": {
        "colab_type": "code",
        "id": "V_B_QgOZ8MG-",
        "colab": {}
      },
      "source": [
        "import pandas as pd\n",
        "import numpy as np\n",
        "import matplotlib.pyplot as plt\n",
        "from sklearn.model_selection import train_test_split\n",
        "from sklearn.linear_model import LogisticRegression\n",
        "from sklearn.tree import DecisionTreeClassifier\n",
        "from sklearn.metrics import accuracy_score,confusion_matrix,precision_recall_fscore_support"
      ],
      "execution_count": 0,
      "outputs": []
    },
    {
      "cell_type": "code",
      "metadata": {
        "id": "5PIjayAAeKO0",
        "colab_type": "code",
        "outputId": "551bacb6-1799-47e3-8523-3655afe04a97",
        "colab": {
          "base_uri": "https://localhost:8080/",
          "height": 34
        }
      },
      "source": [
        "from google.colab import drive\n",
        "drive.mount('/content/drive')"
      ],
      "execution_count": 6,
      "outputs": [
        {
          "output_type": "stream",
          "text": [
            "Drive already mounted at /content/drive; to attempt to forcibly remount, call drive.mount(\"/content/drive\", force_remount=True).\n"
          ],
          "name": "stdout"
        }
      ]
    },
    {
      "cell_type": "code",
      "metadata": {
        "colab_type": "code",
        "id": "e4nuWxcO8mRt",
        "colab": {}
      },
      "source": [
        "data = pd.read_excel(\"/content/drive/My Drive/Colab Notebooks/datasets/credit_default.xls\",header=1,index_col=0)"
      ],
      "execution_count": 0,
      "outputs": []
    },
    {
      "cell_type": "code",
      "metadata": {
        "colab_type": "code",
        "id": "7TSWw4tT8zoD",
        "outputId": "9b8cccc4-af27-4085-ad37-cc7922e8cd89",
        "colab": {
          "base_uri": "https://localhost:8080/",
          "height": 306
        }
      },
      "source": [
        "data.head()"
      ],
      "execution_count": 8,
      "outputs": [
        {
          "output_type": "execute_result",
          "data": {
            "text/html": [
              "<div>\n",
              "<style scoped>\n",
              "    .dataframe tbody tr th:only-of-type {\n",
              "        vertical-align: middle;\n",
              "    }\n",
              "\n",
              "    .dataframe tbody tr th {\n",
              "        vertical-align: top;\n",
              "    }\n",
              "\n",
              "    .dataframe thead th {\n",
              "        text-align: right;\n",
              "    }\n",
              "</style>\n",
              "<table border=\"1\" class=\"dataframe\">\n",
              "  <thead>\n",
              "    <tr style=\"text-align: right;\">\n",
              "      <th></th>\n",
              "      <th>LIMIT_BAL</th>\n",
              "      <th>SEX</th>\n",
              "      <th>EDUCATION</th>\n",
              "      <th>MARRIAGE</th>\n",
              "      <th>AGE</th>\n",
              "      <th>PAY_0</th>\n",
              "      <th>PAY_2</th>\n",
              "      <th>PAY_3</th>\n",
              "      <th>PAY_4</th>\n",
              "      <th>PAY_5</th>\n",
              "      <th>PAY_6</th>\n",
              "      <th>BILL_AMT1</th>\n",
              "      <th>BILL_AMT2</th>\n",
              "      <th>BILL_AMT3</th>\n",
              "      <th>BILL_AMT4</th>\n",
              "      <th>BILL_AMT5</th>\n",
              "      <th>BILL_AMT6</th>\n",
              "      <th>PAY_AMT1</th>\n",
              "      <th>PAY_AMT2</th>\n",
              "      <th>PAY_AMT3</th>\n",
              "      <th>PAY_AMT4</th>\n",
              "      <th>PAY_AMT5</th>\n",
              "      <th>PAY_AMT6</th>\n",
              "      <th>default payment next month</th>\n",
              "    </tr>\n",
              "    <tr>\n",
              "      <th>ID</th>\n",
              "      <th></th>\n",
              "      <th></th>\n",
              "      <th></th>\n",
              "      <th></th>\n",
              "      <th></th>\n",
              "      <th></th>\n",
              "      <th></th>\n",
              "      <th></th>\n",
              "      <th></th>\n",
              "      <th></th>\n",
              "      <th></th>\n",
              "      <th></th>\n",
              "      <th></th>\n",
              "      <th></th>\n",
              "      <th></th>\n",
              "      <th></th>\n",
              "      <th></th>\n",
              "      <th></th>\n",
              "      <th></th>\n",
              "      <th></th>\n",
              "      <th></th>\n",
              "      <th></th>\n",
              "      <th></th>\n",
              "      <th></th>\n",
              "    </tr>\n",
              "  </thead>\n",
              "  <tbody>\n",
              "    <tr>\n",
              "      <th>1</th>\n",
              "      <td>20000</td>\n",
              "      <td>2</td>\n",
              "      <td>2</td>\n",
              "      <td>1</td>\n",
              "      <td>24</td>\n",
              "      <td>2</td>\n",
              "      <td>2</td>\n",
              "      <td>-1</td>\n",
              "      <td>-1</td>\n",
              "      <td>-2</td>\n",
              "      <td>-2</td>\n",
              "      <td>3913</td>\n",
              "      <td>3102</td>\n",
              "      <td>689</td>\n",
              "      <td>0</td>\n",
              "      <td>0</td>\n",
              "      <td>0</td>\n",
              "      <td>0</td>\n",
              "      <td>689</td>\n",
              "      <td>0</td>\n",
              "      <td>0</td>\n",
              "      <td>0</td>\n",
              "      <td>0</td>\n",
              "      <td>1</td>\n",
              "    </tr>\n",
              "    <tr>\n",
              "      <th>2</th>\n",
              "      <td>120000</td>\n",
              "      <td>2</td>\n",
              "      <td>2</td>\n",
              "      <td>2</td>\n",
              "      <td>26</td>\n",
              "      <td>-1</td>\n",
              "      <td>2</td>\n",
              "      <td>0</td>\n",
              "      <td>0</td>\n",
              "      <td>0</td>\n",
              "      <td>2</td>\n",
              "      <td>2682</td>\n",
              "      <td>1725</td>\n",
              "      <td>2682</td>\n",
              "      <td>3272</td>\n",
              "      <td>3455</td>\n",
              "      <td>3261</td>\n",
              "      <td>0</td>\n",
              "      <td>1000</td>\n",
              "      <td>1000</td>\n",
              "      <td>1000</td>\n",
              "      <td>0</td>\n",
              "      <td>2000</td>\n",
              "      <td>1</td>\n",
              "    </tr>\n",
              "    <tr>\n",
              "      <th>3</th>\n",
              "      <td>90000</td>\n",
              "      <td>2</td>\n",
              "      <td>2</td>\n",
              "      <td>2</td>\n",
              "      <td>34</td>\n",
              "      <td>0</td>\n",
              "      <td>0</td>\n",
              "      <td>0</td>\n",
              "      <td>0</td>\n",
              "      <td>0</td>\n",
              "      <td>0</td>\n",
              "      <td>29239</td>\n",
              "      <td>14027</td>\n",
              "      <td>13559</td>\n",
              "      <td>14331</td>\n",
              "      <td>14948</td>\n",
              "      <td>15549</td>\n",
              "      <td>1518</td>\n",
              "      <td>1500</td>\n",
              "      <td>1000</td>\n",
              "      <td>1000</td>\n",
              "      <td>1000</td>\n",
              "      <td>5000</td>\n",
              "      <td>0</td>\n",
              "    </tr>\n",
              "    <tr>\n",
              "      <th>4</th>\n",
              "      <td>50000</td>\n",
              "      <td>2</td>\n",
              "      <td>2</td>\n",
              "      <td>1</td>\n",
              "      <td>37</td>\n",
              "      <td>0</td>\n",
              "      <td>0</td>\n",
              "      <td>0</td>\n",
              "      <td>0</td>\n",
              "      <td>0</td>\n",
              "      <td>0</td>\n",
              "      <td>46990</td>\n",
              "      <td>48233</td>\n",
              "      <td>49291</td>\n",
              "      <td>28314</td>\n",
              "      <td>28959</td>\n",
              "      <td>29547</td>\n",
              "      <td>2000</td>\n",
              "      <td>2019</td>\n",
              "      <td>1200</td>\n",
              "      <td>1100</td>\n",
              "      <td>1069</td>\n",
              "      <td>1000</td>\n",
              "      <td>0</td>\n",
              "    </tr>\n",
              "    <tr>\n",
              "      <th>5</th>\n",
              "      <td>50000</td>\n",
              "      <td>1</td>\n",
              "      <td>2</td>\n",
              "      <td>1</td>\n",
              "      <td>57</td>\n",
              "      <td>-1</td>\n",
              "      <td>0</td>\n",
              "      <td>-1</td>\n",
              "      <td>0</td>\n",
              "      <td>0</td>\n",
              "      <td>0</td>\n",
              "      <td>8617</td>\n",
              "      <td>5670</td>\n",
              "      <td>35835</td>\n",
              "      <td>20940</td>\n",
              "      <td>19146</td>\n",
              "      <td>19131</td>\n",
              "      <td>2000</td>\n",
              "      <td>36681</td>\n",
              "      <td>10000</td>\n",
              "      <td>9000</td>\n",
              "      <td>689</td>\n",
              "      <td>679</td>\n",
              "      <td>0</td>\n",
              "    </tr>\n",
              "  </tbody>\n",
              "</table>\n",
              "</div>"
            ],
            "text/plain": [
              "    LIMIT_BAL  SEX  EDUCATION  ...  PAY_AMT5  PAY_AMT6  default payment next month\n",
              "ID                             ...                                                \n",
              "1       20000    2          2  ...         0         0                           1\n",
              "2      120000    2          2  ...         0      2000                           1\n",
              "3       90000    2          2  ...      1000      5000                           0\n",
              "4       50000    2          2  ...      1069      1000                           0\n",
              "5       50000    1          2  ...       689       679                           0\n",
              "\n",
              "[5 rows x 24 columns]"
            ]
          },
          "metadata": {
            "tags": []
          },
          "execution_count": 8
        }
      ]
    },
    {
      "cell_type": "code",
      "metadata": {
        "colab_type": "code",
        "id": "4ObRhxZX_tjo",
        "colab": {}
      },
      "source": [
        "data.rename(columns={'default payment next month':'default','PAY_0':'PAY_1'},inplace=True)"
      ],
      "execution_count": 0,
      "outputs": []
    },
    {
      "cell_type": "code",
      "metadata": {
        "colab_type": "code",
        "id": "cGDeW2-R2kTl",
        "outputId": "bd0f2184-29f4-4c8f-d0c0-bff5789ced31",
        "colab": {
          "base_uri": "https://localhost:8080/",
          "height": 170
        }
      },
      "source": [
        "data['LIMIT_BAL'].describe()"
      ],
      "execution_count": 10,
      "outputs": [
        {
          "output_type": "execute_result",
          "data": {
            "text/plain": [
              "count      30000.000000\n",
              "mean      167484.322667\n",
              "std       129747.661567\n",
              "min        10000.000000\n",
              "25%        50000.000000\n",
              "50%       140000.000000\n",
              "75%       240000.000000\n",
              "max      1000000.000000\n",
              "Name: LIMIT_BAL, dtype: float64"
            ]
          },
          "metadata": {
            "tags": []
          },
          "execution_count": 10
        }
      ]
    },
    {
      "cell_type": "code",
      "metadata": {
        "colab_type": "code",
        "id": "jXGA1BF-AUio",
        "outputId": "856505b0-342b-483a-f094-78a998c214c6",
        "colab": {
          "base_uri": "https://localhost:8080/",
          "height": 34
        }
      },
      "source": [
        "len(data)"
      ],
      "execution_count": 11,
      "outputs": [
        {
          "output_type": "execute_result",
          "data": {
            "text/plain": [
              "30000"
            ]
          },
          "metadata": {
            "tags": []
          },
          "execution_count": 11
        }
      ]
    },
    {
      "cell_type": "code",
      "metadata": {
        "colab_type": "code",
        "id": "l22NXS5K9WIv",
        "outputId": "51a7d188-bfea-4809-b090-6aadcf33773a",
        "colab": {
          "base_uri": "https://localhost:8080/",
          "height": 317
        }
      },
      "source": [
        "data.describe()"
      ],
      "execution_count": 12,
      "outputs": [
        {
          "output_type": "execute_result",
          "data": {
            "text/html": [
              "<div>\n",
              "<style scoped>\n",
              "    .dataframe tbody tr th:only-of-type {\n",
              "        vertical-align: middle;\n",
              "    }\n",
              "\n",
              "    .dataframe tbody tr th {\n",
              "        vertical-align: top;\n",
              "    }\n",
              "\n",
              "    .dataframe thead th {\n",
              "        text-align: right;\n",
              "    }\n",
              "</style>\n",
              "<table border=\"1\" class=\"dataframe\">\n",
              "  <thead>\n",
              "    <tr style=\"text-align: right;\">\n",
              "      <th></th>\n",
              "      <th>LIMIT_BAL</th>\n",
              "      <th>SEX</th>\n",
              "      <th>EDUCATION</th>\n",
              "      <th>MARRIAGE</th>\n",
              "      <th>AGE</th>\n",
              "      <th>PAY_1</th>\n",
              "      <th>PAY_2</th>\n",
              "      <th>PAY_3</th>\n",
              "      <th>PAY_4</th>\n",
              "      <th>PAY_5</th>\n",
              "      <th>PAY_6</th>\n",
              "      <th>BILL_AMT1</th>\n",
              "      <th>BILL_AMT2</th>\n",
              "      <th>BILL_AMT3</th>\n",
              "      <th>BILL_AMT4</th>\n",
              "      <th>BILL_AMT5</th>\n",
              "      <th>BILL_AMT6</th>\n",
              "      <th>PAY_AMT1</th>\n",
              "      <th>PAY_AMT2</th>\n",
              "      <th>PAY_AMT3</th>\n",
              "      <th>PAY_AMT4</th>\n",
              "      <th>PAY_AMT5</th>\n",
              "      <th>PAY_AMT6</th>\n",
              "      <th>default</th>\n",
              "    </tr>\n",
              "  </thead>\n",
              "  <tbody>\n",
              "    <tr>\n",
              "      <th>count</th>\n",
              "      <td>30000.000000</td>\n",
              "      <td>30000.000000</td>\n",
              "      <td>30000.000000</td>\n",
              "      <td>30000.000000</td>\n",
              "      <td>30000.000000</td>\n",
              "      <td>30000.000000</td>\n",
              "      <td>30000.000000</td>\n",
              "      <td>30000.000000</td>\n",
              "      <td>30000.000000</td>\n",
              "      <td>30000.000000</td>\n",
              "      <td>30000.000000</td>\n",
              "      <td>30000.000000</td>\n",
              "      <td>30000.000000</td>\n",
              "      <td>3.000000e+04</td>\n",
              "      <td>30000.000000</td>\n",
              "      <td>30000.000000</td>\n",
              "      <td>30000.000000</td>\n",
              "      <td>30000.000000</td>\n",
              "      <td>3.000000e+04</td>\n",
              "      <td>30000.00000</td>\n",
              "      <td>30000.000000</td>\n",
              "      <td>30000.000000</td>\n",
              "      <td>30000.000000</td>\n",
              "      <td>30000.000000</td>\n",
              "    </tr>\n",
              "    <tr>\n",
              "      <th>mean</th>\n",
              "      <td>167484.322667</td>\n",
              "      <td>1.603733</td>\n",
              "      <td>1.853133</td>\n",
              "      <td>1.551867</td>\n",
              "      <td>35.485500</td>\n",
              "      <td>-0.016700</td>\n",
              "      <td>-0.133767</td>\n",
              "      <td>-0.166200</td>\n",
              "      <td>-0.220667</td>\n",
              "      <td>-0.266200</td>\n",
              "      <td>-0.291100</td>\n",
              "      <td>51223.330900</td>\n",
              "      <td>49179.075167</td>\n",
              "      <td>4.701315e+04</td>\n",
              "      <td>43262.948967</td>\n",
              "      <td>40311.400967</td>\n",
              "      <td>38871.760400</td>\n",
              "      <td>5663.580500</td>\n",
              "      <td>5.921163e+03</td>\n",
              "      <td>5225.68150</td>\n",
              "      <td>4826.076867</td>\n",
              "      <td>4799.387633</td>\n",
              "      <td>5215.502567</td>\n",
              "      <td>0.221200</td>\n",
              "    </tr>\n",
              "    <tr>\n",
              "      <th>std</th>\n",
              "      <td>129747.661567</td>\n",
              "      <td>0.489129</td>\n",
              "      <td>0.790349</td>\n",
              "      <td>0.521970</td>\n",
              "      <td>9.217904</td>\n",
              "      <td>1.123802</td>\n",
              "      <td>1.197186</td>\n",
              "      <td>1.196868</td>\n",
              "      <td>1.169139</td>\n",
              "      <td>1.133187</td>\n",
              "      <td>1.149988</td>\n",
              "      <td>73635.860576</td>\n",
              "      <td>71173.768783</td>\n",
              "      <td>6.934939e+04</td>\n",
              "      <td>64332.856134</td>\n",
              "      <td>60797.155770</td>\n",
              "      <td>59554.107537</td>\n",
              "      <td>16563.280354</td>\n",
              "      <td>2.304087e+04</td>\n",
              "      <td>17606.96147</td>\n",
              "      <td>15666.159744</td>\n",
              "      <td>15278.305679</td>\n",
              "      <td>17777.465775</td>\n",
              "      <td>0.415062</td>\n",
              "    </tr>\n",
              "    <tr>\n",
              "      <th>min</th>\n",
              "      <td>10000.000000</td>\n",
              "      <td>1.000000</td>\n",
              "      <td>0.000000</td>\n",
              "      <td>0.000000</td>\n",
              "      <td>21.000000</td>\n",
              "      <td>-2.000000</td>\n",
              "      <td>-2.000000</td>\n",
              "      <td>-2.000000</td>\n",
              "      <td>-2.000000</td>\n",
              "      <td>-2.000000</td>\n",
              "      <td>-2.000000</td>\n",
              "      <td>-165580.000000</td>\n",
              "      <td>-69777.000000</td>\n",
              "      <td>-1.572640e+05</td>\n",
              "      <td>-170000.000000</td>\n",
              "      <td>-81334.000000</td>\n",
              "      <td>-339603.000000</td>\n",
              "      <td>0.000000</td>\n",
              "      <td>0.000000e+00</td>\n",
              "      <td>0.00000</td>\n",
              "      <td>0.000000</td>\n",
              "      <td>0.000000</td>\n",
              "      <td>0.000000</td>\n",
              "      <td>0.000000</td>\n",
              "    </tr>\n",
              "    <tr>\n",
              "      <th>25%</th>\n",
              "      <td>50000.000000</td>\n",
              "      <td>1.000000</td>\n",
              "      <td>1.000000</td>\n",
              "      <td>1.000000</td>\n",
              "      <td>28.000000</td>\n",
              "      <td>-1.000000</td>\n",
              "      <td>-1.000000</td>\n",
              "      <td>-1.000000</td>\n",
              "      <td>-1.000000</td>\n",
              "      <td>-1.000000</td>\n",
              "      <td>-1.000000</td>\n",
              "      <td>3558.750000</td>\n",
              "      <td>2984.750000</td>\n",
              "      <td>2.666250e+03</td>\n",
              "      <td>2326.750000</td>\n",
              "      <td>1763.000000</td>\n",
              "      <td>1256.000000</td>\n",
              "      <td>1000.000000</td>\n",
              "      <td>8.330000e+02</td>\n",
              "      <td>390.00000</td>\n",
              "      <td>296.000000</td>\n",
              "      <td>252.500000</td>\n",
              "      <td>117.750000</td>\n",
              "      <td>0.000000</td>\n",
              "    </tr>\n",
              "    <tr>\n",
              "      <th>50%</th>\n",
              "      <td>140000.000000</td>\n",
              "      <td>2.000000</td>\n",
              "      <td>2.000000</td>\n",
              "      <td>2.000000</td>\n",
              "      <td>34.000000</td>\n",
              "      <td>0.000000</td>\n",
              "      <td>0.000000</td>\n",
              "      <td>0.000000</td>\n",
              "      <td>0.000000</td>\n",
              "      <td>0.000000</td>\n",
              "      <td>0.000000</td>\n",
              "      <td>22381.500000</td>\n",
              "      <td>21200.000000</td>\n",
              "      <td>2.008850e+04</td>\n",
              "      <td>19052.000000</td>\n",
              "      <td>18104.500000</td>\n",
              "      <td>17071.000000</td>\n",
              "      <td>2100.000000</td>\n",
              "      <td>2.009000e+03</td>\n",
              "      <td>1800.00000</td>\n",
              "      <td>1500.000000</td>\n",
              "      <td>1500.000000</td>\n",
              "      <td>1500.000000</td>\n",
              "      <td>0.000000</td>\n",
              "    </tr>\n",
              "    <tr>\n",
              "      <th>75%</th>\n",
              "      <td>240000.000000</td>\n",
              "      <td>2.000000</td>\n",
              "      <td>2.000000</td>\n",
              "      <td>2.000000</td>\n",
              "      <td>41.000000</td>\n",
              "      <td>0.000000</td>\n",
              "      <td>0.000000</td>\n",
              "      <td>0.000000</td>\n",
              "      <td>0.000000</td>\n",
              "      <td>0.000000</td>\n",
              "      <td>0.000000</td>\n",
              "      <td>67091.000000</td>\n",
              "      <td>64006.250000</td>\n",
              "      <td>6.016475e+04</td>\n",
              "      <td>54506.000000</td>\n",
              "      <td>50190.500000</td>\n",
              "      <td>49198.250000</td>\n",
              "      <td>5006.000000</td>\n",
              "      <td>5.000000e+03</td>\n",
              "      <td>4505.00000</td>\n",
              "      <td>4013.250000</td>\n",
              "      <td>4031.500000</td>\n",
              "      <td>4000.000000</td>\n",
              "      <td>0.000000</td>\n",
              "    </tr>\n",
              "    <tr>\n",
              "      <th>max</th>\n",
              "      <td>1000000.000000</td>\n",
              "      <td>2.000000</td>\n",
              "      <td>6.000000</td>\n",
              "      <td>3.000000</td>\n",
              "      <td>79.000000</td>\n",
              "      <td>8.000000</td>\n",
              "      <td>8.000000</td>\n",
              "      <td>8.000000</td>\n",
              "      <td>8.000000</td>\n",
              "      <td>8.000000</td>\n",
              "      <td>8.000000</td>\n",
              "      <td>964511.000000</td>\n",
              "      <td>983931.000000</td>\n",
              "      <td>1.664089e+06</td>\n",
              "      <td>891586.000000</td>\n",
              "      <td>927171.000000</td>\n",
              "      <td>961664.000000</td>\n",
              "      <td>873552.000000</td>\n",
              "      <td>1.684259e+06</td>\n",
              "      <td>896040.00000</td>\n",
              "      <td>621000.000000</td>\n",
              "      <td>426529.000000</td>\n",
              "      <td>528666.000000</td>\n",
              "      <td>1.000000</td>\n",
              "    </tr>\n",
              "  </tbody>\n",
              "</table>\n",
              "</div>"
            ],
            "text/plain": [
              "            LIMIT_BAL           SEX  ...       PAY_AMT6       default\n",
              "count    30000.000000  30000.000000  ...   30000.000000  30000.000000\n",
              "mean    167484.322667      1.603733  ...    5215.502567      0.221200\n",
              "std     129747.661567      0.489129  ...   17777.465775      0.415062\n",
              "min      10000.000000      1.000000  ...       0.000000      0.000000\n",
              "25%      50000.000000      1.000000  ...     117.750000      0.000000\n",
              "50%     140000.000000      2.000000  ...    1500.000000      0.000000\n",
              "75%     240000.000000      2.000000  ...    4000.000000      0.000000\n",
              "max    1000000.000000      2.000000  ...  528666.000000      1.000000\n",
              "\n",
              "[8 rows x 24 columns]"
            ]
          },
          "metadata": {
            "tags": []
          },
          "execution_count": 12
        }
      ]
    },
    {
      "cell_type": "code",
      "metadata": {
        "colab_type": "code",
        "id": "68pRN7K3DcEM",
        "outputId": "5456b0cb-5c3c-47c4-c754-26b500669b41",
        "colab": {
          "base_uri": "https://localhost:8080/",
          "height": 68
        }
      },
      "source": [
        "data.default.value_counts()"
      ],
      "execution_count": 13,
      "outputs": [
        {
          "output_type": "execute_result",
          "data": {
            "text/plain": [
              "0    23364\n",
              "1     6636\n",
              "Name: default, dtype: int64"
            ]
          },
          "metadata": {
            "tags": []
          },
          "execution_count": 13
        }
      ]
    },
    {
      "cell_type": "code",
      "metadata": {
        "colab_type": "code",
        "id": "u76XlEwLA6Mf",
        "outputId": "105a9c01-4786-4992-98bc-f75b696cbbb9",
        "colab": {
          "base_uri": "https://localhost:8080/",
          "height": 68
        }
      },
      "source": [
        "data['default'].value_counts(1)"
      ],
      "execution_count": 14,
      "outputs": [
        {
          "output_type": "execute_result",
          "data": {
            "text/plain": [
              "0    0.7788\n",
              "1    0.2212\n",
              "Name: default, dtype: float64"
            ]
          },
          "metadata": {
            "tags": []
          },
          "execution_count": 14
        }
      ]
    },
    {
      "cell_type": "code",
      "metadata": {
        "colab_type": "code",
        "id": "Sk-ldgrf-kc7",
        "outputId": "24ba9f5d-c098-490c-9f85-36393c8d2bdf",
        "colab": {
          "base_uri": "https://localhost:8080/",
          "height": 442
        }
      },
      "source": [
        "data.dtypes"
      ],
      "execution_count": 15,
      "outputs": [
        {
          "output_type": "execute_result",
          "data": {
            "text/plain": [
              "LIMIT_BAL    int64\n",
              "SEX          int64\n",
              "EDUCATION    int64\n",
              "MARRIAGE     int64\n",
              "AGE          int64\n",
              "PAY_1        int64\n",
              "PAY_2        int64\n",
              "PAY_3        int64\n",
              "PAY_4        int64\n",
              "PAY_5        int64\n",
              "PAY_6        int64\n",
              "BILL_AMT1    int64\n",
              "BILL_AMT2    int64\n",
              "BILL_AMT3    int64\n",
              "BILL_AMT4    int64\n",
              "BILL_AMT5    int64\n",
              "BILL_AMT6    int64\n",
              "PAY_AMT1     int64\n",
              "PAY_AMT2     int64\n",
              "PAY_AMT3     int64\n",
              "PAY_AMT4     int64\n",
              "PAY_AMT5     int64\n",
              "PAY_AMT6     int64\n",
              "default      int64\n",
              "dtype: object"
            ]
          },
          "metadata": {
            "tags": []
          },
          "execution_count": 15
        }
      ]
    },
    {
      "cell_type": "code",
      "metadata": {
        "colab_type": "code",
        "id": "r4aJcbicAaym",
        "outputId": "b63a247c-2560-4e42-a02d-73777c017bec",
        "colab": {
          "base_uri": "https://localhost:8080/",
          "height": 68
        }
      },
      "source": [
        "data.SEX.value_counts()"
      ],
      "execution_count": 16,
      "outputs": [
        {
          "output_type": "execute_result",
          "data": {
            "text/plain": [
              "2    18112\n",
              "1    11888\n",
              "Name: SEX, dtype: int64"
            ]
          },
          "metadata": {
            "tags": []
          },
          "execution_count": 16
        }
      ]
    },
    {
      "cell_type": "code",
      "metadata": {
        "colab_type": "code",
        "id": "XKkHB_Xq7vzb",
        "colab": {}
      },
      "source": [
        "columns=list(data.columns)\n",
        "num=[]\n",
        "cat=[]\n",
        "#Classifing numerical and categorical data into num[] and cat[] lists\n",
        "for i in columns:\n",
        "    if((np.array(data[i].unique()).shape[0]>30 and data[i].dtype in['int64'])):\n",
        "      num.append(i)  #appending to num list\n",
        "    else:\n",
        "      cat.append(i)  #appending to cat list"
      ],
      "execution_count": 0,
      "outputs": []
    },
    {
      "cell_type": "code",
      "metadata": {
        "colab_type": "code",
        "id": "PBCHjGdv8O0_",
        "outputId": "828f7380-9bf0-436e-a3b0-095ab3bfa4b8",
        "colab": {
          "base_uri": "https://localhost:8080/",
          "height": 425
        }
      },
      "source": [
        "num,cat"
      ],
      "execution_count": 18,
      "outputs": [
        {
          "output_type": "execute_result",
          "data": {
            "text/plain": [
              "(['LIMIT_BAL',\n",
              "  'AGE',\n",
              "  'BILL_AMT1',\n",
              "  'BILL_AMT2',\n",
              "  'BILL_AMT3',\n",
              "  'BILL_AMT4',\n",
              "  'BILL_AMT5',\n",
              "  'BILL_AMT6',\n",
              "  'PAY_AMT1',\n",
              "  'PAY_AMT2',\n",
              "  'PAY_AMT3',\n",
              "  'PAY_AMT4',\n",
              "  'PAY_AMT5',\n",
              "  'PAY_AMT6'],\n",
              " ['SEX',\n",
              "  'EDUCATION',\n",
              "  'MARRIAGE',\n",
              "  'PAY_1',\n",
              "  'PAY_2',\n",
              "  'PAY_3',\n",
              "  'PAY_4',\n",
              "  'PAY_5',\n",
              "  'PAY_6',\n",
              "  'default'])"
            ]
          },
          "metadata": {
            "tags": []
          },
          "execution_count": 18
        }
      ]
    },
    {
      "cell_type": "code",
      "metadata": {
        "colab_type": "code",
        "id": "1E8vkOP43-ED",
        "outputId": "cabdf811-906e-4a62-865e-b51fdbd8c554",
        "colab": {
          "base_uri": "https://localhost:8080/",
          "height": 34
        }
      },
      "source": [
        "q1 = np.percentile(data['LIMIT_BAL'],25)\n",
        "q3 = np.percentile(data['LIMIT_BAL'],75)\n",
        "iqr = q3-q1\n",
        "iqr"
      ],
      "execution_count": 19,
      "outputs": [
        {
          "output_type": "execute_result",
          "data": {
            "text/plain": [
              "190000.0"
            ]
          },
          "metadata": {
            "tags": []
          },
          "execution_count": 19
        }
      ]
    },
    {
      "cell_type": "code",
      "metadata": {
        "colab_type": "code",
        "id": "O8-RLgcR44X_",
        "outputId": "50aa8739-9e9b-49ce-ac67-f99a81cbb1d8",
        "colab": {
          "base_uri": "https://localhost:8080/",
          "height": 34
        }
      },
      "source": [
        "q1"
      ],
      "execution_count": 20,
      "outputs": [
        {
          "output_type": "execute_result",
          "data": {
            "text/plain": [
              "50000.0"
            ]
          },
          "metadata": {
            "tags": []
          },
          "execution_count": 20
        }
      ]
    },
    {
      "cell_type": "code",
      "metadata": {
        "colab_type": "code",
        "id": "Xf6dE_6H4nFe",
        "outputId": "a294282b-8efa-443f-e45c-e373024dd58b",
        "colab": {
          "base_uri": "https://localhost:8080/",
          "height": 34
        }
      },
      "source": [
        "lb = q1-1.5*iqr\n",
        "ub = q3+1.5*iqr\n",
        "lb,ub"
      ],
      "execution_count": 21,
      "outputs": [
        {
          "output_type": "execute_result",
          "data": {
            "text/plain": [
              "(-235000.0, 525000.0)"
            ]
          },
          "metadata": {
            "tags": []
          },
          "execution_count": 21
        }
      ]
    },
    {
      "cell_type": "code",
      "metadata": {
        "colab_type": "code",
        "id": "yKG9wp5W4yTn",
        "outputId": "6614b615-517a-4ee9-fa49-15040e23523a",
        "colab": {
          "base_uri": "https://localhost:8080/",
          "height": 34
        }
      },
      "source": [
        "data[(data['LIMIT_BAL']<lb)|(data['LIMIT_BAL']>ub)].shape[0]"
      ],
      "execution_count": 22,
      "outputs": [
        {
          "output_type": "execute_result",
          "data": {
            "text/plain": [
              "167"
            ]
          },
          "metadata": {
            "tags": []
          },
          "execution_count": 22
        }
      ]
    },
    {
      "cell_type": "code",
      "metadata": {
        "colab_type": "code",
        "id": "TF4poKKB-LNp",
        "colab": {}
      },
      "source": [
        ""
      ],
      "execution_count": 0,
      "outputs": []
    },
    {
      "cell_type": "markdown",
      "metadata": {
        "colab_type": "text",
        "id": "3gxQoRU19WsX"
      },
      "source": [
        "# Univariate analysis"
      ]
    },
    {
      "cell_type": "markdown",
      "metadata": {
        "colab_type": "text",
        "id": "V1vUG_TJT63e"
      },
      "source": [
        "## Numerical variables\n"
      ]
    },
    {
      "cell_type": "code",
      "metadata": {
        "colab_type": "code",
        "id": "whpwcPpZ88Ex",
        "outputId": "2407f0fd-5aba-4b1b-850b-94839ad0982d",
        "colab": {
          "base_uri": "https://localhost:8080/",
          "height": 1000
        }
      },
      "source": [
        "for j in num:\n",
        "  data.hist(column=j,grid=False,figsize=(8,6))\n",
        "  #plt.savefig('%s_hist.png'%j)\n",
        "  plt.show() \n",
        "  data.boxplot(column=j,grid=False,figsize=(8,6))\n",
        "  plt.show()"
      ],
      "execution_count": 23,
      "outputs": [
        {
          "output_type": "display_data",
          "data": {
            "image/png": "[encoded data removed]",
            "text/plain": [
              "<Figure size 576x432 with 1 Axes>"
            ]
          },
          "metadata": {
            "tags": []
          }
        },
        {
          "output_type": "display_data",
          "data": {
            "image/png": "[encoded data removed]",
            "text/plain": [
              "<Figure size 576x432 with 1 Axes>"
            ]
          },
          "metadata": {
            "tags": []
          }
        },
        {
          "output_type": "display_data",
          "data": {
            "image/png": "[encoded data removed]",
            "text/plain": [
              "<Figure size 576x432 with 1 Axes>"
            ]
          },
          "metadata": {
            "tags": []
          }
        },
        {
          "output_type": "display_data",
          "data": {
            "image/png": "[encoded data removed]",
            "text/plain": [
              "<Figure size 576x432 with 1 Axes>"
            ]
          },
          "metadata": {
            "tags": []
          }
        },
        {
          "output_type": "display_data",
          "data": {
            "image/png": "[encoded data removed]",
            "text/plain": [
              "<Figure size 576x432 with 1 Axes>"
            ]
          },
          "metadata": {
            "tags": []
          }
        },
        {
          "output_type": "display_data",
          "data": {
            "image/png": "[encoded data removed]",
            "text/plain": [
              "<Figure size 576x432 with 1 Axes>"
            ]
          },
          "metadata": {
            "tags": []
          }
        },
        {
          "output_type": "display_data",
          "data": {
            "image/png": "[encoded data removed]",
            "text/plain": [
              "<Figure size 576x432 with 1 Axes>"
            ]
          },
          "metadata": {
            "tags": []
          }
        },
        {
          "output_type": "display_data",
          "data": {
            "image/png": "[encoded data removed]",
            "text/plain": [
              "<Figure size 576x432 with 1 Axes>"
            ]
          },
          "metadata": {
            "tags": []
          }
        },
        {
          "output_type": "display_data",
          "data": {
            "image/png": "[encoded data removed]",
            "text/plain": [
              "<Figure size 576x432 with 1 Axes>"
            ]
          },
          "metadata": {
            "tags": []
          }
        },
        {
          "output_type": "display_data",
          "data": {
            "image/png": "[encoded data removed]",
            "text/plain": [
              "<Figure size 576x432 with 1 Axes>"
            ]
          },
          "metadata": {
            "tags": []
          }
        },
        {
          "output_type": "display_data",
          "data": {
            "image/png": "[encoded data removed]",
            "text/plain": [
              "<Figure size 576x432 with 1 Axes>"
            ]
          },
          "metadata": {
            "tags": []
          }
        },
        {
          "output_type": "display_data",
          "data": {
            "image/png": "[encoded data removed]",
            "text/plain": [
              "<Figure size 576x432 with 1 Axes>"
            ]
          },
          "metadata": {
            "tags": []
          }
        },
        {
          "output_type": "display_data",
          "data": {
            "image/png": "[encoded data removed]",
            "text/plain": [
              "<Figure size 576x432 with 1 Axes>"
            ]
          },
          "metadata": {
            "tags": []
          }
        },
        {
          "output_type": "display_data",
          "data": {
            "image/png": "[encoded data removed]",
            "text/plain": [
              "<Figure size 576x432 with 1 Axes>"
            ]
          },
          "metadata": {
            "tags": []
          }
        },
        {
          "output_type": "display_data",
          "data": {
            "image/png": "[encoded data removed]",
            "text/plain": [
              "<Figure size 576x432 with 1 Axes>"
            ]
          },
          "metadata": {
            "tags": []
          }
        },
        {
          "output_type": "display_data",
          "data": {
            "image/png": "[encoded data removed]",
            "text/plain": [
              "<Figure size 576x432 with 1 Axes>"
            ]
          },
          "metadata": {
            "tags": []
          }
        },
        {
          "output_type": "display_data",
          "data": {
            "image/png": "[encoded data removed]",
            "text/plain": [
              "<Figure size 576x432 with 1 Axes>"
            ]
          },
          "metadata": {
            "tags": []
          }
        },
        {
          "output_type": "display_data",
          "data": {
            "image/png": "[encoded data removed]",
            "text/plain": [
              "<Figure size 576x432 with 1 Axes>"
            ]
          },
          "metadata": {
            "tags": []
          }
        },
        {
          "output_type": "display_data",
          "data": {
            "image/png": "[encoded data removed]",
            "text/plain": [
              "<Figure size 576x432 with 1 Axes>"
            ]
          },
          "metadata": {
            "tags": []
          }
        },
        {
          "output_type": "display_data",
          "data": {
            "image/png": "[encoded data removed]",
            "text/plain": [
              "<Figure size 576x432 with 1 Axes>"
            ]
          },
          "metadata": {
            "tags": []
          }
        },
        {
          "output_type": "display_data",
          "data": {
            "image/png": "[encoded data removed]",
            "text/plain": [
              "<Figure size 576x432 with 1 Axes>"
            ]
          },
          "metadata": {
            "tags": []
          }
        },
        {
          "output_type": "display_data",
          "data": {
            "image/png": "[encoded data removed]",
            "text/plain": [
              "<Figure size 576x432 with 1 Axes>"
            ]
          },
          "metadata": {
            "tags": []
          }
        },
        {
          "output_type": "display_data",
          "data": {
            "image/png": "[encoded data removed]",
            "text/plain": [
              "<Figure size 576x432 with 1 Axes>"
            ]
          },
          "metadata": {
            "tags": []
          }
        },
        {
          "output_type": "display_data",
          "data": {
            "image/png": "[encoded data removed]",
            "text/plain": [
              "<Figure size 576x432 with 1 Axes>"
            ]
          },
          "metadata": {
            "tags": []
          }
        },
        {
          "output_type": "display_data",
          "data": {
            "image/png": "[encoded data removed]",
            "text/plain": [
              "<Figure size 576x432 with 1 Axes>"
            ]
          },
          "metadata": {
            "tags": []
          }
        },
        {
          "output_type": "display_data",
          "data": {
            "image/png": "[encoded data removed]",
            "text/plain": [
              "<Figure size 576x432 with 1 Axes>"
            ]
          },
          "metadata": {
            "tags": []
          }
        },
        {
          "output_type": "display_data",
          "data": {
            "image/png": "[encoded data removed]",
            "text/plain": [
              "<Figure size 576x432 with 1 Axes>"
            ]
          },
          "metadata": {
            "tags": []
          }
        },
        {
          "output_type": "display_data",
          "data": {
            "image/png": "[encoded data removed]",
            "text/plain": [
              "<Figure size 576x432 with 1 Axes>"
            ]
          },
          "metadata": {
            "tags": []
          }
        }
      ]
    },
    {
      "cell_type": "code",
      "metadata": {
        "colab_type": "code",
        "id": "VY9qcniJ52PS",
        "outputId": "2b954934-0deb-4585-a2d5-5bbb3acbaa21",
        "colab": {
          "base_uri": "https://localhost:8080/",
          "height": 255
        }
      },
      "source": [
        "for j in num:\n",
        "  q1 = np.percentile(data[j],25)\n",
        "  q3 = np.percentile(data[j],75)\n",
        "  iqr = q3-q1\n",
        "  lb = q1-1.5*iqr\n",
        "  ub = q3+1.5*iqr\n",
        "  c = data[(data[j]<lb)|(data[j]>ub)].shape[0]\n",
        "  print('No. of outliers in ',j ,'is',c,\"and in % is\",round(c/len(data)*100,4))"
      ],
      "execution_count": 24,
      "outputs": [
        {
          "output_type": "stream",
          "text": [
            "No. of outliers in  LIMIT_BAL is 167 and in % is 0.5567\n",
            "No. of outliers in  AGE is 272 and in % is 0.9067\n",
            "No. of outliers in  BILL_AMT1 is 2400 and in % is 8.0\n",
            "No. of outliers in  BILL_AMT2 is 2395 and in % is 7.9833\n",
            "No. of outliers in  BILL_AMT3 is 2469 and in % is 8.23\n",
            "No. of outliers in  BILL_AMT4 is 2622 and in % is 8.74\n",
            "No. of outliers in  BILL_AMT5 is 2725 and in % is 9.0833\n",
            "No. of outliers in  BILL_AMT6 is 2693 and in % is 8.9767\n",
            "No. of outliers in  PAY_AMT1 is 2745 and in % is 9.15\n",
            "No. of outliers in  PAY_AMT2 is 2714 and in % is 9.0467\n",
            "No. of outliers in  PAY_AMT3 is 2598 and in % is 8.66\n",
            "No. of outliers in  PAY_AMT4 is 2994 and in % is 9.98\n",
            "No. of outliers in  PAY_AMT5 is 2945 and in % is 9.8167\n",
            "No. of outliers in  PAY_AMT6 is 2958 and in % is 9.86\n"
          ],
          "name": "stdout"
        }
      ]
    },
    {
      "cell_type": "markdown",
      "metadata": {
        "colab_type": "text",
        "id": "pla-PQreTzrE"
      },
      "source": [
        "## categorical plots"
      ]
    },
    {
      "cell_type": "code",
      "metadata": {
        "colab_type": "code",
        "id": "trA8Kvde9kbm",
        "outputId": "b3daad51-39ea-4763-80ab-79b8ecde8540",
        "colab": {
          "base_uri": "https://localhost:8080/",
          "height": 1000
        }
      },
      "source": [
        "import seaborn as sns\n",
        "for g in cat:\n",
        "        sns.countplot(data[g])\n",
        "        #plt.savefig(str(g)+'_barplot.png')\n",
        "        \n",
        "        plt.show()"
      ],
      "execution_count": 25,
      "outputs": [
        {
          "output_type": "display_data",
          "data": {
            "image/png": "[encoded data removed]",
            "text/plain": [
              "<Figure size 432x288 with 1 Axes>"
            ]
          },
          "metadata": {
            "tags": []
          }
        },
        {
          "output_type": "display_data",
          "data": {
            "image/png": "[encoded data removed]",
            "text/plain": [
              "<Figure size 432x288 with 1 Axes>"
            ]
          },
          "metadata": {
            "tags": []
          }
        },
        {
          "output_type": "display_data",
          "data": {
            "image/png": "[encoded data removed]",
            "text/plain": [
              "<Figure size 432x288 with 1 Axes>"
            ]
          },
          "metadata": {
            "tags": []
          }
        },
        {
          "output_type": "display_data",
          "data": {
            "image/png": "[encoded data removed]",
            "text/plain": [
              "<Figure size 432x288 with 1 Axes>"
            ]
          },
          "metadata": {
            "tags": []
          }
        },
        {
          "output_type": "display_data",
          "data": {
            "image/png": "[encoded data removed]",
            "text/plain": [
              "<Figure size 432x288 with 1 Axes>"
            ]
          },
          "metadata": {
            "tags": []
          }
        },
        {
          "output_type": "display_data",
          "data": {
            "image/png": "[encoded data removed]",
            "text/plain": [
              "<Figure size 432x288 with 1 Axes>"
            ]
          },
          "metadata": {
            "tags": []
          }
        },
        {
          "output_type": "display_data",
          "data": {
            "image/png": "[encoded data removed]",
            "text/plain": [
              "<Figure size 432x288 with 1 Axes>"
            ]
          },
          "metadata": {
            "tags": []
          }
        },
        {
          "output_type": "display_data",
          "data": {
            "image/png": "[encoded data removed]",
            "text/plain": [
              "<Figure size 432x288 with 1 Axes>"
            ]
          },
          "metadata": {
            "tags": []
          }
        },
        {
          "output_type": "display_data",
          "data": {
            "image/png": "[encoded data removed]",
            "text/plain": [
              "<Figure size 432x288 with 1 Axes>"
            ]
          },
          "metadata": {
            "tags": []
          }
        },
        {
          "output_type": "display_data",
          "data": {
            "image/png": "[encoded data removed]",
            "text/plain": [
              "<Figure size 432x288 with 1 Axes>"
            ]
          },
          "metadata": {
            "tags": []
          }
        }
      ]
    },
    {
      "cell_type": "code",
      "metadata": {
        "colab_type": "code",
        "id": "VGIegdKEtez-",
        "outputId": "4c588edb-6bd4-42f7-8420-68e8ffb596d2",
        "colab": {
          "base_uri": "https://localhost:8080/",
          "height": 442
        }
      },
      "source": [
        "data.isnull().sum()"
      ],
      "execution_count": 26,
      "outputs": [
        {
          "output_type": "execute_result",
          "data": {
            "text/plain": [
              "LIMIT_BAL    0\n",
              "SEX          0\n",
              "EDUCATION    0\n",
              "MARRIAGE     0\n",
              "AGE          0\n",
              "PAY_1        0\n",
              "PAY_2        0\n",
              "PAY_3        0\n",
              "PAY_4        0\n",
              "PAY_5        0\n",
              "PAY_6        0\n",
              "BILL_AMT1    0\n",
              "BILL_AMT2    0\n",
              "BILL_AMT3    0\n",
              "BILL_AMT4    0\n",
              "BILL_AMT5    0\n",
              "BILL_AMT6    0\n",
              "PAY_AMT1     0\n",
              "PAY_AMT2     0\n",
              "PAY_AMT3     0\n",
              "PAY_AMT4     0\n",
              "PAY_AMT5     0\n",
              "PAY_AMT6     0\n",
              "default      0\n",
              "dtype: int64"
            ]
          },
          "metadata": {
            "tags": []
          },
          "execution_count": 26
        }
      ]
    },
    {
      "cell_type": "code",
      "metadata": {
        "colab_type": "code",
        "id": "HAuusXulEaEZ",
        "outputId": "6570c060-59ff-49df-d6fc-0c5116aff811",
        "colab": {
          "base_uri": "https://localhost:8080/",
          "height": 300
        }
      },
      "source": [
        "sns.boxplot(x='default',y= 'PAY_AMT6',data=data)"
      ],
      "execution_count": 27,
      "outputs": [
        {
          "output_type": "execute_result",
          "data": {
            "text/plain": [
              "<matplotlib.axes._subplots.AxesSubplot at 0x7f82f68a8dd8>"
            ]
          },
          "metadata": {
            "tags": []
          },
          "execution_count": 27
        },
        {
          "output_type": "display_data",
          "data": {
            "image/png": "[encoded data removed]",
            "text/plain": [
              "<Figure size 432x288 with 1 Axes>"
            ]
          },
          "metadata": {
            "tags": []
          }
        }
      ]
    },
    {
      "cell_type": "code",
      "metadata": {
        "colab_type": "code",
        "id": "OHPMl1LXAoje",
        "outputId": "07b6463b-a881-4e0c-e02d-10712da5d130",
        "colab": {
          "base_uri": "https://localhost:8080/",
          "height": 1000
        }
      },
      "source": [
        "for i in num:\n",
        "  sns.boxplot(x='default',y = i,data=data)\n",
        "  plt.show()"
      ],
      "execution_count": 28,
      "outputs": [
        {
          "output_type": "display_data",
          "data": {
            "image/png": "[encoded data removed]",
            "text/plain": [
              "<Figure size 432x288 with 1 Axes>"
            ]
          },
          "metadata": {
            "tags": []
          }
        },
        {
          "output_type": "display_data",
          "data": {
            "image/png": "[encoded data removed]",
            "text/plain": [
              "<Figure size 432x288 with 1 Axes>"
            ]
          },
          "metadata": {
            "tags": []
          }
        },
        {
          "output_type": "display_data",
          "data": {
            "image/png": "[encoded data removed]",
            "text/plain": [
              "<Figure size 432x288 with 1 Axes>"
            ]
          },
          "metadata": {
            "tags": []
          }
        },
        {
          "output_type": "display_data",
          "data": {
            "image/png": "[encoded data removed]",
            "text/plain": [
              "<Figure size 432x288 with 1 Axes>"
            ]
          },
          "metadata": {
            "tags": []
          }
        },
        {
          "output_type": "display_data",
          "data": {
            "image/png": "[encoded data removed]",
            "text/plain": [
              "<Figure size 432x288 with 1 Axes>"
            ]
          },
          "metadata": {
            "tags": []
          }
        },
        {
          "output_type": "display_data",
          "data": {
            "image/png": "[encoded data removed]",
            "text/plain": [
              "<Figure size 432x288 with 1 Axes>"
            ]
          },
          "metadata": {
            "tags": []
          }
        },
        {
          "output_type": "display_data",
          "data": {
            "image/png": "[encoded data removed]",
            "text/plain": [
              "<Figure size 432x288 with 1 Axes>"
            ]
          },
          "metadata": {
            "tags": []
          }
        },
        {
          "output_type": "display_data",
          "data": {
            "image/png": "[encoded data removed]",
            "text/plain": [
              "<Figure size 432x288 with 1 Axes>"
            ]
          },
          "metadata": {
            "tags": []
          }
        },
        {
          "output_type": "display_data",
          "data": {
            "image/png": "[encoded data removed]",
            "text/plain": [
              "<Figure size 432x288 with 1 Axes>"
            ]
          },
          "metadata": {
            "tags": []
          }
        },
        {
          "output_type": "display_data",
          "data": {
            "image/png": "[encoded data removed]",
            "text/plain": [
              "<Figure size 432x288 with 1 Axes>"
            ]
          },
          "metadata": {
            "tags": []
          }
        },
        {
          "output_type": "display_data",
          "data": {
            "image/png": "[encoded data removed]",
            "text/plain": [
              "<Figure size 432x288 with 1 Axes>"
            ]
          },
          "metadata": {
            "tags": []
          }
        },
        {
          "output_type": "display_data",
          "data": {
            "image/png": "[encoded data removed]",
            "text/plain": [
              "<Figure size 432x288 with 1 Axes>"
            ]
          },
          "metadata": {
            "tags": []
          }
        },
        {
          "output_type": "display_data",
          "data": {
            "image/png": "[encoded data removed]",
            "text/plain": [
              "<Figure size 432x288 with 1 Axes>"
            ]
          },
          "metadata": {
            "tags": []
          }
        },
        {
          "output_type": "display_data",
          "data": {
            "image/png": "[encoded data removed]",
            "text/plain": [
              "<Figure size 432x288 with 1 Axes>"
            ]
          },
          "metadata": {
            "tags": []
          }
        }
      ]
    },
    {
      "cell_type": "code",
      "metadata": {
        "colab_type": "code",
        "id": "YgPTr6E2g_xG",
        "outputId": "5063be8b-8fc9-41cd-d938-2a283af59d48",
        "colab": {
          "base_uri": "https://localhost:8080/",
          "height": 1000
        }
      },
      "source": [
        "output = 'default'\n",
        "\n",
        "# Let's do a little EDA\n",
        "cols = [ f for f in data.columns if data.dtypes[ f ] != \"object\"]\n",
        "#cols.remove( \"ID\")\n",
        "cols.remove( output )\n",
        "\n",
        "f = pd.melt( data, id_vars=output, value_vars=cols)\n",
        "g = sns.FacetGrid( f, hue=output, col=\"variable\", col_wrap=4, sharex=False, sharey=False )\n",
        "g = g.map( sns.distplot, \"value\", kde=True).add_legend()"
      ],
      "execution_count": 29,
      "outputs": [
        {
          "output_type": "display_data",
          "data": {
            "image/png": "[encoded data removed]",
            "text/plain": [
              "<Figure size 907.375x1296 with 23 Axes>"
            ]
          },
          "metadata": {
            "tags": []
          }
        }
      ]
    },
    {
      "cell_type": "code",
      "metadata": {
        "colab_type": "code",
        "id": "xIZBnqpgjKvy",
        "colab": {}
      },
      "source": [
        "def getColumnsNames(prefix):\n",
        "    return [prefix+str(x) for x in range(1,7)]"
      ],
      "execution_count": 0,
      "outputs": []
    },
    {
      "cell_type": "code",
      "metadata": {
        "colab_type": "code",
        "id": "bw5cd88oxmo6",
        "outputId": "20379b90-05b0-4171-d06f-307273b958d5",
        "colab": {
          "base_uri": "https://localhost:8080/",
          "height": 499
        }
      },
      "source": [
        "pay_status_columns = getColumnsNames('PAY_')\n",
        "figure, ax = plt.subplots(2,3)\n",
        "figure.set_size_inches(18,8)\n",
        "\n",
        "\n",
        "for i in range(len(pay_status_columns)):\n",
        "    row,col = int(i/3), i%3\n",
        "\n",
        "    d  = data[pay_status_columns[i]].value_counts()\n",
        "    x = data[pay_status_columns[i]][(data['default']==1)].value_counts()\n",
        "    ax[row,col].bar(d.index, d, align='center', color='red')\n",
        "    ax[row,col].bar(x.index, x, align='center', color='yellow', alpha=0.7)\n",
        "    ax[row,col].set_title(pay_status_columns[i])\n",
        "   \n",
        "\n",
        "\n",
        "    \n",
        "plt.show()"
      ],
      "execution_count": 31,
      "outputs": [
        {
          "output_type": "display_data",
          "data": {
            "image/png": "[encoded data removed]",
            "text/plain": [
              "<Figure size 1296x576 with 6 Axes>"
            ]
          },
          "metadata": {
            "tags": []
          }
        }
      ]
    },
    {
      "cell_type": "markdown",
      "metadata": {
        "colab_type": "text",
        "id": "sPUJxnDM3I2E"
      },
      "source": [
        "The above barplot shows for each month payment status the count of defaulters and non defaulters"
      ]
    },
    {
      "cell_type": "code",
      "metadata": {
        "colab_type": "code",
        "id": "hzePYi9GyxaL",
        "outputId": "ee2f064b-39a7-4421-c1b7-ca15d1f99a07",
        "colab": {
          "base_uri": "https://localhost:8080/",
          "height": 585
        }
      },
      "source": [
        "pay_amt_columns = getColumnsNames('PAY_AMT')\n",
        "figure, ax = plt.subplots(3,2)\n",
        "figure.set_size_inches(10,8)\n",
        "\n",
        "\n",
        "for i in range(len(pay_status_columns)):\n",
        "    row,col =  i%3, int(i/3)\n",
        "   \n",
        "    ax[row,col].hist(data[pay_amt_columns[i]], color ='red')\n",
        "    ax[row,col].hist(data[pay_amt_columns[i]][(data['default']==1)],color='yellow',alpha = 0.7)\n",
        "    ax[row,col].set_title(pay_amt_columns[i])\n",
        "    #adding scaling to make the graph more helpful\n",
        "    ax[row,col].set_yscale('log', nonposy='clip')\n",
        "plt.tight_layout()\n",
        "plt.show()"
      ],
      "execution_count": 32,
      "outputs": [
        {
          "output_type": "display_data",
          "data": {
            "image/png": "[encoded data removed]",
            "text/plain": [
              "<Figure size 720x576 with 6 Axes>"
            ]
          },
          "metadata": {
            "tags": []
          }
        }
      ]
    },
    {
      "cell_type": "code",
      "metadata": {
        "colab_type": "code",
        "id": "62PX-B-VXi5z",
        "colab": {}
      },
      "source": [
        "df = data.copy()"
      ],
      "execution_count": 0,
      "outputs": []
    },
    {
      "cell_type": "code",
      "metadata": {
        "colab_type": "code",
        "id": "J02I5XZGXwEv",
        "colab": {}
      },
      "source": [
        "df = pd.get_dummies(df,columns=['EDUCATION','MARRIAGE'])"
      ],
      "execution_count": 0,
      "outputs": []
    },
    {
      "cell_type": "code",
      "metadata": {
        "colab_type": "code",
        "id": "dr2n0Mw5etpa",
        "outputId": "cae5e7e3-4623-4597-a36f-fbfb382fe12d",
        "colab": {
          "base_uri": "https://localhost:8080/",
          "height": 255
        }
      },
      "source": [
        "df.head()"
      ],
      "execution_count": 36,
      "outputs": [
        {
          "output_type": "execute_result",
          "data": {
            "text/html": [
              "<div>\n",
              "<style scoped>\n",
              "    .dataframe tbody tr th:only-of-type {\n",
              "        vertical-align: middle;\n",
              "    }\n",
              "\n",
              "    .dataframe tbody tr th {\n",
              "        vertical-align: top;\n",
              "    }\n",
              "\n",
              "    .dataframe thead th {\n",
              "        text-align: right;\n",
              "    }\n",
              "</style>\n",
              "<table border=\"1\" class=\"dataframe\">\n",
              "  <thead>\n",
              "    <tr style=\"text-align: right;\">\n",
              "      <th></th>\n",
              "      <th>LIMIT_BAL</th>\n",
              "      <th>SEX</th>\n",
              "      <th>AGE</th>\n",
              "      <th>PAY_1</th>\n",
              "      <th>PAY_2</th>\n",
              "      <th>PAY_3</th>\n",
              "      <th>PAY_4</th>\n",
              "      <th>PAY_5</th>\n",
              "      <th>PAY_6</th>\n",
              "      <th>BILL_AMT1</th>\n",
              "      <th>BILL_AMT2</th>\n",
              "      <th>BILL_AMT3</th>\n",
              "      <th>BILL_AMT4</th>\n",
              "      <th>BILL_AMT5</th>\n",
              "      <th>BILL_AMT6</th>\n",
              "      <th>PAY_AMT1</th>\n",
              "      <th>PAY_AMT2</th>\n",
              "      <th>PAY_AMT3</th>\n",
              "      <th>PAY_AMT4</th>\n",
              "      <th>PAY_AMT5</th>\n",
              "      <th>PAY_AMT6</th>\n",
              "      <th>default</th>\n",
              "      <th>EDUCATION_0</th>\n",
              "      <th>EDUCATION_1</th>\n",
              "      <th>EDUCATION_2</th>\n",
              "      <th>EDUCATION_3</th>\n",
              "      <th>EDUCATION_4</th>\n",
              "      <th>EDUCATION_5</th>\n",
              "      <th>EDUCATION_6</th>\n",
              "      <th>MARRIAGE_0</th>\n",
              "      <th>MARRIAGE_1</th>\n",
              "      <th>MARRIAGE_2</th>\n",
              "      <th>MARRIAGE_3</th>\n",
              "    </tr>\n",
              "    <tr>\n",
              "      <th>ID</th>\n",
              "      <th></th>\n",
              "      <th></th>\n",
              "      <th></th>\n",
              "      <th></th>\n",
              "      <th></th>\n",
              "      <th></th>\n",
              "      <th></th>\n",
              "      <th></th>\n",
              "      <th></th>\n",
              "      <th></th>\n",
              "      <th></th>\n",
              "      <th></th>\n",
              "      <th></th>\n",
              "      <th></th>\n",
              "      <th></th>\n",
              "      <th></th>\n",
              "      <th></th>\n",
              "      <th></th>\n",
              "      <th></th>\n",
              "      <th></th>\n",
              "      <th></th>\n",
              "      <th></th>\n",
              "      <th></th>\n",
              "      <th></th>\n",
              "      <th></th>\n",
              "      <th></th>\n",
              "      <th></th>\n",
              "      <th></th>\n",
              "      <th></th>\n",
              "      <th></th>\n",
              "      <th></th>\n",
              "      <th></th>\n",
              "      <th></th>\n",
              "    </tr>\n",
              "  </thead>\n",
              "  <tbody>\n",
              "    <tr>\n",
              "      <th>1</th>\n",
              "      <td>20000</td>\n",
              "      <td>2</td>\n",
              "      <td>24</td>\n",
              "      <td>2</td>\n",
              "      <td>2</td>\n",
              "      <td>-1</td>\n",
              "      <td>-1</td>\n",
              "      <td>-2</td>\n",
              "      <td>-2</td>\n",
              "      <td>3913</td>\n",
              "      <td>3102</td>\n",
              "      <td>689</td>\n",
              "      <td>0</td>\n",
              "      <td>0</td>\n",
              "      <td>0</td>\n",
              "      <td>0</td>\n",
              "      <td>689</td>\n",
              "      <td>0</td>\n",
              "      <td>0</td>\n",
              "      <td>0</td>\n",
              "      <td>0</td>\n",
              "      <td>1</td>\n",
              "      <td>0</td>\n",
              "      <td>0</td>\n",
              "      <td>1</td>\n",
              "      <td>0</td>\n",
              "      <td>0</td>\n",
              "      <td>0</td>\n",
              "      <td>0</td>\n",
              "      <td>0</td>\n",
              "      <td>1</td>\n",
              "      <td>0</td>\n",
              "      <td>0</td>\n",
              "    </tr>\n",
              "    <tr>\n",
              "      <th>2</th>\n",
              "      <td>120000</td>\n",
              "      <td>2</td>\n",
              "      <td>26</td>\n",
              "      <td>-1</td>\n",
              "      <td>2</td>\n",
              "      <td>0</td>\n",
              "      <td>0</td>\n",
              "      <td>0</td>\n",
              "      <td>2</td>\n",
              "      <td>2682</td>\n",
              "      <td>1725</td>\n",
              "      <td>2682</td>\n",
              "      <td>3272</td>\n",
              "      <td>3455</td>\n",
              "      <td>3261</td>\n",
              "      <td>0</td>\n",
              "      <td>1000</td>\n",
              "      <td>1000</td>\n",
              "      <td>1000</td>\n",
              "      <td>0</td>\n",
              "      <td>2000</td>\n",
              "      <td>1</td>\n",
              "      <td>0</td>\n",
              "      <td>0</td>\n",
              "      <td>1</td>\n",
              "      <td>0</td>\n",
              "      <td>0</td>\n",
              "      <td>0</td>\n",
              "      <td>0</td>\n",
              "      <td>0</td>\n",
              "      <td>0</td>\n",
              "      <td>1</td>\n",
              "      <td>0</td>\n",
              "    </tr>\n",
              "    <tr>\n",
              "      <th>3</th>\n",
              "      <td>90000</td>\n",
              "      <td>2</td>\n",
              "      <td>34</td>\n",
              "      <td>0</td>\n",
              "      <td>0</td>\n",
              "      <td>0</td>\n",
              "      <td>0</td>\n",
              "      <td>0</td>\n",
              "      <td>0</td>\n",
              "      <td>29239</td>\n",
              "      <td>14027</td>\n",
              "      <td>13559</td>\n",
              "      <td>14331</td>\n",
              "      <td>14948</td>\n",
              "      <td>15549</td>\n",
              "      <td>1518</td>\n",
              "      <td>1500</td>\n",
              "      <td>1000</td>\n",
              "      <td>1000</td>\n",
              "      <td>1000</td>\n",
              "      <td>5000</td>\n",
              "      <td>0</td>\n",
              "      <td>0</td>\n",
              "      <td>0</td>\n",
              "      <td>1</td>\n",
              "      <td>0</td>\n",
              "      <td>0</td>\n",
              "      <td>0</td>\n",
              "      <td>0</td>\n",
              "      <td>0</td>\n",
              "      <td>0</td>\n",
              "      <td>1</td>\n",
              "      <td>0</td>\n",
              "    </tr>\n",
              "    <tr>\n",
              "      <th>4</th>\n",
              "      <td>50000</td>\n",
              "      <td>2</td>\n",
              "      <td>37</td>\n",
              "      <td>0</td>\n",
              "      <td>0</td>\n",
              "      <td>0</td>\n",
              "      <td>0</td>\n",
              "      <td>0</td>\n",
              "      <td>0</td>\n",
              "      <td>46990</td>\n",
              "      <td>48233</td>\n",
              "      <td>49291</td>\n",
              "      <td>28314</td>\n",
              "      <td>28959</td>\n",
              "      <td>29547</td>\n",
              "      <td>2000</td>\n",
              "      <td>2019</td>\n",
              "      <td>1200</td>\n",
              "      <td>1100</td>\n",
              "      <td>1069</td>\n",
              "      <td>1000</td>\n",
              "      <td>0</td>\n",
              "      <td>0</td>\n",
              "      <td>0</td>\n",
              "      <td>1</td>\n",
              "      <td>0</td>\n",
              "      <td>0</td>\n",
              "      <td>0</td>\n",
              "      <td>0</td>\n",
              "      <td>0</td>\n",
              "      <td>1</td>\n",
              "      <td>0</td>\n",
              "      <td>0</td>\n",
              "    </tr>\n",
              "    <tr>\n",
              "      <th>5</th>\n",
              "      <td>50000</td>\n",
              "      <td>1</td>\n",
              "      <td>57</td>\n",
              "      <td>-1</td>\n",
              "      <td>0</td>\n",
              "      <td>-1</td>\n",
              "      <td>0</td>\n",
              "      <td>0</td>\n",
              "      <td>0</td>\n",
              "      <td>8617</td>\n",
              "      <td>5670</td>\n",
              "      <td>35835</td>\n",
              "      <td>20940</td>\n",
              "      <td>19146</td>\n",
              "      <td>19131</td>\n",
              "      <td>2000</td>\n",
              "      <td>36681</td>\n",
              "      <td>10000</td>\n",
              "      <td>9000</td>\n",
              "      <td>689</td>\n",
              "      <td>679</td>\n",
              "      <td>0</td>\n",
              "      <td>0</td>\n",
              "      <td>0</td>\n",
              "      <td>1</td>\n",
              "      <td>0</td>\n",
              "      <td>0</td>\n",
              "      <td>0</td>\n",
              "      <td>0</td>\n",
              "      <td>0</td>\n",
              "      <td>1</td>\n",
              "      <td>0</td>\n",
              "      <td>0</td>\n",
              "    </tr>\n",
              "  </tbody>\n",
              "</table>\n",
              "</div>"
            ],
            "text/plain": [
              "    LIMIT_BAL  SEX  AGE  PAY_1  ...  MARRIAGE_0  MARRIAGE_1  MARRIAGE_2  MARRIAGE_3\n",
              "ID                              ...                                                \n",
              "1       20000    2   24      2  ...           0           1           0           0\n",
              "2      120000    2   26     -1  ...           0           0           1           0\n",
              "3       90000    2   34      0  ...           0           0           1           0\n",
              "4       50000    2   37      0  ...           0           1           0           0\n",
              "5       50000    1   57     -1  ...           0           1           0           0\n",
              "\n",
              "[5 rows x 33 columns]"
            ]
          },
          "metadata": {
            "tags": []
          },
          "execution_count": 36
        }
      ]
    },
    {
      "cell_type": "code",
      "metadata": {
        "id": "rXhTCkC2jQAV",
        "colab_type": "code",
        "colab": {}
      },
      "source": [
        "df.PAY_1=df.PAY_1 + 2\n"
      ],
      "execution_count": 0,
      "outputs": []
    },
    {
      "cell_type": "code",
      "metadata": {
        "id": "RCKEm7zbjQAZ",
        "colab_type": "code",
        "colab": {}
      },
      "source": [
        "pay=['PAY_2','PAY_3','PAY_4','PAY_5','PAY_6']\n",
        "for i in pay:\n",
        "    df[i]=df[i]+2\n"
      ],
      "execution_count": 0,
      "outputs": []
    },
    {
      "cell_type": "markdown",
      "metadata": {
        "colab_type": "text",
        "id": "k-mpjhdgSXZB"
      },
      "source": [
        "## Information and weight of evidence.\n"
      ]
    },
    {
      "cell_type": "code",
      "metadata": {
        "colab_type": "code",
        "id": "vRRfZ4AeaEer",
        "colab": {}
      },
      "source": [
        "import pandas.core.algorithms as algos\n",
        "from pandas import Series\n",
        "import scipy.stats.stats as stats\n",
        "import re\n",
        "import traceback\n",
        "import string"
      ],
      "execution_count": 0,
      "outputs": []
    },
    {
      "cell_type": "code",
      "metadata": {
        "colab_type": "code",
        "id": "rYRxDMzDSWZe",
        "colab": {}
      },
      "source": [
        "max_bin = 30\n",
        "force_bin = 3\n",
        "\n",
        "# define a binning function\n",
        "def mono_bin(Y, X, n = max_bin):\n",
        "    \n",
        "    df1 = pd.DataFrame({\"X\": X, \"Y\": Y})\n",
        "    justmiss = df1[['X','Y']][df1.X.isnull()]\n",
        "    notmiss = df1[['X','Y']][df1.X.notnull()]\n",
        "    r = 0\n",
        "    while np.abs(r) < 1:\n",
        "        try:\n",
        "            d1 = pd.DataFrame({\"X\": notmiss.X, \"Y\": notmiss.Y, \"Bucket\": pd.qcut(notmiss.X, n)})\n",
        "            d2 = d1.groupby('Bucket', as_index=True)\n",
        "            r, p = stats.spearmanr(d2.mean().X, d2.mean().Y)\n",
        "            n = n - 1 \n",
        "        except Exception as e:\n",
        "            n = n - 1\n",
        "\n",
        "    if len(d2) == 1:\n",
        "        n = force_bin         \n",
        "        bins = algos.quantile(notmiss.X, np.linspace(0, 1, n))\n",
        "        if len(np.unique(bins)) == 2:\n",
        "            bins = np.insert(bins, 0, 1)\n",
        "            bins[1] = bins[1]-(bins[1]/2)\n",
        "        d1 = pd.DataFrame({\"X\": notmiss.X, \"Y\": notmiss.Y, \"Bucket\": pd.cut(notmiss.X, np.unique(bins),include_lowest=True)}) \n",
        "        d2 = d1.groupby('Bucket', as_index=True)\n",
        "    \n",
        "    d3 = pd.DataFrame({},index=[])\n",
        "    d3[\"MIN_VALUE\"] = d2.min().X\n",
        "    d3[\"MAX_VALUE\"] = d2.max().X\n",
        "    d3[\"COUNT\"] = d2.count().Y\n",
        "    d3[\"EVENT\"] = d2.sum().Y\n",
        "    d3[\"NONEVENT\"] = d2.count().Y - d2.sum().Y\n",
        "    d3=d3.reset_index(drop=True)\n",
        "    \n",
        "    if len(justmiss.index) > 0:\n",
        "        d4 = pd.DataFrame({'MIN_VALUE':np.nan},index=[0])\n",
        "        d4[\"MAX_VALUE\"] = np.nan\n",
        "        d4[\"COUNT\"] = justmiss.count().Y\n",
        "        d4[\"EVENT\"] = justmiss.sum().Y\n",
        "        d4[\"NONEVENT\"] = justmiss.count().Y - justmiss.sum().Y\n",
        "        d3 = d3.append(d4,ignore_index=True)\n",
        "    \n",
        "    d3[\"EVENT_RATE\"] = d3.EVENT/d3.COUNT\n",
        "    d3[\"NON_EVENT_RATE\"] = d3.NONEVENT/d3.COUNT\n",
        "    d3[\"DIST_EVENT\"] = d3.EVENT/d3.sum().EVENT\n",
        "    d3[\"DIST_NON_EVENT\"] = d3.NONEVENT/d3.sum().NONEVENT\n",
        "    d3[\"WOE\"] = np.log(d3.DIST_EVENT/d3.DIST_NON_EVENT)\n",
        "    d3[\"IV\"] = (d3.DIST_EVENT-d3.DIST_NON_EVENT)*np.log(d3.DIST_EVENT/d3.DIST_NON_EVENT)\n",
        "    d3[\"VAR_NAME\"] = \"VAR\"\n",
        "    d3 = d3[['VAR_NAME','MIN_VALUE', 'MAX_VALUE', 'COUNT', 'EVENT', 'EVENT_RATE', 'NONEVENT', 'NON_EVENT_RATE', 'DIST_EVENT','DIST_NON_EVENT','WOE', 'IV']]       \n",
        "    d3 = d3.replace([np.inf, -np.inf], 0)\n",
        "    d3.IV = d3.IV.sum()\n",
        "    \n",
        "    return(d3)\n",
        "\n",
        "def char_bin(Y, X):\n",
        "    df1 = pd.DataFrame({\"X\": X, \"Y\": Y})\n",
        "    justmiss = df1[['X','Y']][df1.X.isnull()]\n",
        "    notmiss = df1[['X','Y']][df1.X.notnull()]\n",
        "    df2 = notmiss.groupby('X',as_index=True)\n",
        "    d3 = pd.DataFrame({},index=[])\n",
        "    d3[\"COUNT\"] = df2.count().Y\n",
        "    d3[\"MIN_VALUE\"] = df2.sum().Y.index\n",
        "    d3[\"MAX_VALUE\"] = d3[\"MIN_VALUE\"]\n",
        "    d3[\"EVENT\"] = df2.sum().Y\n",
        "    d3[\"NONEVENT\"] = df2.count().Y - df2.sum().Y\n",
        "    if len(justmiss.index) > 0:\n",
        "        d4 = pd.DataFrame({'MIN_VALUE':np.nan},index=[0])\n",
        "        d4[\"MAX_VALUE\"] = np.nan\n",
        "        d4[\"COUNT\"] = justmiss.count().Y\n",
        "        d4[\"EVENT\"] = justmiss.sum().Y\n",
        "        d4[\"NONEVENT\"] = justmiss.count().Y - justmiss.sum().Y\n",
        "        d3 = d3.append(d4,ignore_index=True)\n",
        "    d3[\"EVENT_RATE\"] = d3.EVENT/d3.COUNT\n",
        "    d3[\"NON_EVENT_RATE\"] = d3.NONEVENT/d3.COUNT\n",
        "    d3[\"DIST_EVENT\"] = d3.EVENT/d3.sum().EVENT\n",
        "    d3[\"DIST_NON_EVENT\"] = d3.NONEVENT/d3.sum().NONEVENT\n",
        "    d3[\"WOE\"] = np.log(d3.DIST_EVENT/d3.DIST_NON_EVENT)\n",
        "    d3[\"IV\"] = (d3.DIST_EVENT-d3.DIST_NON_EVENT)*np.log(d3.DIST_EVENT/d3.DIST_NON_EVENT)\n",
        "    d3[\"VAR_NAME\"] = \"VAR\"\n",
        "    d3 = d3[['VAR_NAME','MIN_VALUE', 'MAX_VALUE', 'COUNT', 'EVENT', 'EVENT_RATE', 'NONEVENT', 'NON_EVENT_RATE', 'DIST_EVENT','DIST_NON_EVENT','WOE', 'IV']]\n",
        "    d3 = d3.replace([np.inf, -np.inf], 0)\n",
        "    d3.IV = d3.IV.sum()\n",
        "    d3 = d3.reset_index(drop=True)\n",
        "    return(d3)\n",
        "\n",
        "\n",
        "def data_vars(df1, target):\n",
        "    \n",
        "    stack = traceback.extract_stack()\n",
        "    filename, lineno, function_name, code = stack[-2]\n",
        "    vars_name = re.compile(r'\\((.*?)\\).*$').search(code).groups()[0]\n",
        "    final = (re.findall(r\"[\\w']+\", vars_name))[-1]\n",
        "    \n",
        "    x = df1.dtypes.index\n",
        "    count = -1\n",
        "    \n",
        "    for i in x:\n",
        "        if i.upper() not in (final.upper()):\n",
        "            if np.issubdtype(df1[i], np.number) and len(Series.unique(df1[i])) > 2:\n",
        "                conv = mono_bin(target, df1[i])\n",
        "                conv[\"VAR_NAME\"] = i\n",
        "                count = count + 1\n",
        "            else:\n",
        "                conv = char_bin(target, df1[i])\n",
        "                conv[\"VAR_NAME\"] = i            \n",
        "                count = count + 1\n",
        "                \n",
        "            if count == 0:\n",
        "                iv_df = conv\n",
        "            else:\n",
        "                iv_df = iv_df.append(conv,ignore_index=True)\n",
        "    \n",
        "    iv = pd.DataFrame({'IV':iv_df.groupby('VAR_NAME').IV.max()})\n",
        "    iv = iv.reset_index()\n",
        "    return(iv_df,iv)"
      ],
      "execution_count": 0,
      "outputs": []
    },
    {
      "cell_type": "code",
      "metadata": {
        "colab_type": "code",
        "id": "mgc-tyGgSdAY",
        "outputId": "af653c5d-c434-477b-d6e9-c417e2e73489",
        "colab": {
          "base_uri": "https://localhost:8080/",
          "height": 51
        }
      },
      "source": [
        "final_iv, IV = data_vars(df,df.default)"
      ],
      "execution_count": 41,
      "outputs": [
        {
          "output_type": "stream",
          "text": [
            "/usr/local/lib/python3.6/dist-packages/ipykernel_launcher.py:80: RuntimeWarning: divide by zero encountered in log\n",
            "/usr/local/lib/python3.6/dist-packages/ipykernel_launcher.py:81: RuntimeWarning: divide by zero encountered in log\n"
          ],
          "name": "stderr"
        }
      ]
    },
    {
      "cell_type": "code",
      "metadata": {
        "colab_type": "code",
        "id": "dxzaNFjsfQqL",
        "outputId": "0ef3067e-06ed-42ab-cf8f-d276293bce75",
        "colab": {
          "base_uri": "https://localhost:8080/",
          "height": 1000
        }
      },
      "source": [
        "final_iv"
      ],
      "execution_count": 42,
      "outputs": [
        {
          "output_type": "execute_result",
          "data": {
            "text/html": [
              "<div>\n",
              "<style scoped>\n",
              "    .dataframe tbody tr th:only-of-type {\n",
              "        vertical-align: middle;\n",
              "    }\n",
              "\n",
              "    .dataframe tbody tr th {\n",
              "        vertical-align: top;\n",
              "    }\n",
              "\n",
              "    .dataframe thead th {\n",
              "        text-align: right;\n",
              "    }\n",
              "</style>\n",
              "<table border=\"1\" class=\"dataframe\">\n",
              "  <thead>\n",
              "    <tr style=\"text-align: right;\">\n",
              "      <th></th>\n",
              "      <th>VAR_NAME</th>\n",
              "      <th>MIN_VALUE</th>\n",
              "      <th>MAX_VALUE</th>\n",
              "      <th>COUNT</th>\n",
              "      <th>EVENT</th>\n",
              "      <th>EVENT_RATE</th>\n",
              "      <th>NONEVENT</th>\n",
              "      <th>NON_EVENT_RATE</th>\n",
              "      <th>DIST_EVENT</th>\n",
              "      <th>DIST_NON_EVENT</th>\n",
              "      <th>WOE</th>\n",
              "      <th>IV</th>\n",
              "    </tr>\n",
              "  </thead>\n",
              "  <tbody>\n",
              "    <tr>\n",
              "      <th>0</th>\n",
              "      <td>LIMIT_BAL</td>\n",
              "      <td>10000</td>\n",
              "      <td>30000</td>\n",
              "      <td>4081</td>\n",
              "      <td>1463</td>\n",
              "      <td>0.358491</td>\n",
              "      <td>2618</td>\n",
              "      <td>0.641509</td>\n",
              "      <td>0.220464</td>\n",
              "      <td>0.112053</td>\n",
              "      <td>0.676765</td>\n",
              "      <td>1.753614e-01</td>\n",
              "    </tr>\n",
              "    <tr>\n",
              "      <th>1</th>\n",
              "      <td>LIMIT_BAL</td>\n",
              "      <td>40000</td>\n",
              "      <td>50000</td>\n",
              "      <td>3595</td>\n",
              "      <td>977</td>\n",
              "      <td>0.271766</td>\n",
              "      <td>2618</td>\n",
              "      <td>0.728234</td>\n",
              "      <td>0.147227</td>\n",
              "      <td>0.112053</td>\n",
              "      <td>0.273008</td>\n",
              "      <td>1.753614e-01</td>\n",
              "    </tr>\n",
              "    <tr>\n",
              "      <th>2</th>\n",
              "      <td>LIMIT_BAL</td>\n",
              "      <td>60000</td>\n",
              "      <td>80000</td>\n",
              "      <td>3123</td>\n",
              "      <td>806</td>\n",
              "      <td>0.258085</td>\n",
              "      <td>2317</td>\n",
              "      <td>0.741915</td>\n",
              "      <td>0.121459</td>\n",
              "      <td>0.099170</td>\n",
              "      <td>0.202742</td>\n",
              "      <td>1.753614e-01</td>\n",
              "    </tr>\n",
              "    <tr>\n",
              "      <th>3</th>\n",
              "      <td>LIMIT_BAL</td>\n",
              "      <td>90000</td>\n",
              "      <td>120000</td>\n",
              "      <td>3013</td>\n",
              "      <td>749</td>\n",
              "      <td>0.248589</td>\n",
              "      <td>2264</td>\n",
              "      <td>0.751411</td>\n",
              "      <td>0.112869</td>\n",
              "      <td>0.096901</td>\n",
              "      <td>0.152538</td>\n",
              "      <td>1.753614e-01</td>\n",
              "    </tr>\n",
              "    <tr>\n",
              "      <th>4</th>\n",
              "      <td>LIMIT_BAL</td>\n",
              "      <td>130000</td>\n",
              "      <td>160000</td>\n",
              "      <td>3282</td>\n",
              "      <td>651</td>\n",
              "      <td>0.198355</td>\n",
              "      <td>2631</td>\n",
              "      <td>0.801645</td>\n",
              "      <td>0.098101</td>\n",
              "      <td>0.112609</td>\n",
              "      <td>-0.137923</td>\n",
              "      <td>1.753614e-01</td>\n",
              "    </tr>\n",
              "    <tr>\n",
              "      <th>5</th>\n",
              "      <td>LIMIT_BAL</td>\n",
              "      <td>170000</td>\n",
              "      <td>200000</td>\n",
              "      <td>3284</td>\n",
              "      <td>573</td>\n",
              "      <td>0.174482</td>\n",
              "      <td>2711</td>\n",
              "      <td>0.825518</td>\n",
              "      <td>0.086347</td>\n",
              "      <td>0.116033</td>\n",
              "      <td>-0.295500</td>\n",
              "      <td>1.753614e-01</td>\n",
              "    </tr>\n",
              "    <tr>\n",
              "      <th>6</th>\n",
              "      <td>LIMIT_BAL</td>\n",
              "      <td>210000</td>\n",
              "      <td>260000</td>\n",
              "      <td>3426</td>\n",
              "      <td>567</td>\n",
              "      <td>0.165499</td>\n",
              "      <td>2859</td>\n",
              "      <td>0.834501</td>\n",
              "      <td>0.085443</td>\n",
              "      <td>0.122368</td>\n",
              "      <td>-0.359181</td>\n",
              "      <td>1.753614e-01</td>\n",
              "    </tr>\n",
              "    <tr>\n",
              "      <th>7</th>\n",
              "      <td>LIMIT_BAL</td>\n",
              "      <td>270000</td>\n",
              "      <td>360000</td>\n",
              "      <td>3720</td>\n",
              "      <td>556</td>\n",
              "      <td>0.149462</td>\n",
              "      <td>3164</td>\n",
              "      <td>0.850538</td>\n",
              "      <td>0.083785</td>\n",
              "      <td>0.135422</td>\n",
              "      <td>-0.480137</td>\n",
              "      <td>1.753614e-01</td>\n",
              "    </tr>\n",
              "    <tr>\n",
              "      <th>8</th>\n",
              "      <td>LIMIT_BAL</td>\n",
              "      <td>370000</td>\n",
              "      <td>1000000</td>\n",
              "      <td>2476</td>\n",
              "      <td>294</td>\n",
              "      <td>0.118740</td>\n",
              "      <td>2182</td>\n",
              "      <td>0.881260</td>\n",
              "      <td>0.044304</td>\n",
              "      <td>0.093392</td>\n",
              "      <td>-0.745730</td>\n",
              "      <td>1.753614e-01</td>\n",
              "    </tr>\n",
              "    <tr>\n",
              "      <th>9</th>\n",
              "      <td>SEX</td>\n",
              "      <td>1</td>\n",
              "      <td>1</td>\n",
              "      <td>11888</td>\n",
              "      <td>2873</td>\n",
              "      <td>0.241672</td>\n",
              "      <td>9015</td>\n",
              "      <td>0.758328</td>\n",
              "      <td>0.432942</td>\n",
              "      <td>0.385850</td>\n",
              "      <td>0.115154</td>\n",
              "      <td>9.179578e-03</td>\n",
              "    </tr>\n",
              "    <tr>\n",
              "      <th>10</th>\n",
              "      <td>SEX</td>\n",
              "      <td>2</td>\n",
              "      <td>2</td>\n",
              "      <td>18112</td>\n",
              "      <td>3763</td>\n",
              "      <td>0.207763</td>\n",
              "      <td>14349</td>\n",
              "      <td>0.792237</td>\n",
              "      <td>0.567058</td>\n",
              "      <td>0.614150</td>\n",
              "      <td>-0.079777</td>\n",
              "      <td>9.179578e-03</td>\n",
              "    </tr>\n",
              "    <tr>\n",
              "      <th>11</th>\n",
              "      <td>AGE</td>\n",
              "      <td>21</td>\n",
              "      <td>34</td>\n",
              "      <td>15696</td>\n",
              "      <td>3371</td>\n",
              "      <td>0.214768</td>\n",
              "      <td>12325</td>\n",
              "      <td>0.785232</td>\n",
              "      <td>0.507987</td>\n",
              "      <td>0.527521</td>\n",
              "      <td>-0.037733</td>\n",
              "      <td>1.528468e-03</td>\n",
              "    </tr>\n",
              "    <tr>\n",
              "      <th>12</th>\n",
              "      <td>AGE</td>\n",
              "      <td>35</td>\n",
              "      <td>79</td>\n",
              "      <td>14304</td>\n",
              "      <td>3265</td>\n",
              "      <td>0.228258</td>\n",
              "      <td>11039</td>\n",
              "      <td>0.771742</td>\n",
              "      <td>0.492013</td>\n",
              "      <td>0.472479</td>\n",
              "      <td>0.040512</td>\n",
              "      <td>1.528468e-03</td>\n",
              "    </tr>\n",
              "    <tr>\n",
              "      <th>13</th>\n",
              "      <td>PAY_1</td>\n",
              "      <td>0</td>\n",
              "      <td>2</td>\n",
              "      <td>23182</td>\n",
              "      <td>3207</td>\n",
              "      <td>0.138340</td>\n",
              "      <td>19975</td>\n",
              "      <td>0.861660</td>\n",
              "      <td>0.483273</td>\n",
              "      <td>0.854948</td>\n",
              "      <td>-0.570459</td>\n",
              "      <td>6.842083e-01</td>\n",
              "    </tr>\n",
              "    <tr>\n",
              "      <th>14</th>\n",
              "      <td>PAY_1</td>\n",
              "      <td>3</td>\n",
              "      <td>10</td>\n",
              "      <td>6818</td>\n",
              "      <td>3429</td>\n",
              "      <td>0.502933</td>\n",
              "      <td>3389</td>\n",
              "      <td>0.497067</td>\n",
              "      <td>0.516727</td>\n",
              "      <td>0.145052</td>\n",
              "      <td>1.270421</td>\n",
              "      <td>6.842083e-01</td>\n",
              "    </tr>\n",
              "    <tr>\n",
              "      <th>15</th>\n",
              "      <td>PAY_2</td>\n",
              "      <td>0</td>\n",
              "      <td>2</td>\n",
              "      <td>25562</td>\n",
              "      <td>4160</td>\n",
              "      <td>0.162742</td>\n",
              "      <td>21402</td>\n",
              "      <td>0.837258</td>\n",
              "      <td>0.626884</td>\n",
              "      <td>0.916025</td>\n",
              "      <td>-0.379282</td>\n",
              "      <td>5.408814e-01</td>\n",
              "    </tr>\n",
              "    <tr>\n",
              "      <th>16</th>\n",
              "      <td>PAY_2</td>\n",
              "      <td>3</td>\n",
              "      <td>10</td>\n",
              "      <td>4438</td>\n",
              "      <td>2476</td>\n",
              "      <td>0.557909</td>\n",
              "      <td>1962</td>\n",
              "      <td>0.442091</td>\n",
              "      <td>0.373116</td>\n",
              "      <td>0.083975</td>\n",
              "      <td>1.491367</td>\n",
              "      <td>5.408814e-01</td>\n",
              "    </tr>\n",
              "    <tr>\n",
              "      <th>17</th>\n",
              "      <td>PAY_3</td>\n",
              "      <td>0</td>\n",
              "      <td>1</td>\n",
              "      <td>10023</td>\n",
              "      <td>1683</td>\n",
              "      <td>0.167914</td>\n",
              "      <td>8340</td>\n",
              "      <td>0.832086</td>\n",
              "      <td>0.253617</td>\n",
              "      <td>0.356959</td>\n",
              "      <td>-0.341798</td>\n",
              "      <td>4.090013e-01</td>\n",
              "    </tr>\n",
              "    <tr>\n",
              "      <th>18</th>\n",
              "      <td>PAY_3</td>\n",
              "      <td>2</td>\n",
              "      <td>2</td>\n",
              "      <td>15764</td>\n",
              "      <td>2751</td>\n",
              "      <td>0.174512</td>\n",
              "      <td>13013</td>\n",
              "      <td>0.825488</td>\n",
              "      <td>0.414557</td>\n",
              "      <td>0.556968</td>\n",
              "      <td>-0.295297</td>\n",
              "      <td>4.090013e-01</td>\n",
              "    </tr>\n",
              "    <tr>\n",
              "      <th>19</th>\n",
              "      <td>PAY_3</td>\n",
              "      <td>3</td>\n",
              "      <td>10</td>\n",
              "      <td>4213</td>\n",
              "      <td>2202</td>\n",
              "      <td>0.522668</td>\n",
              "      <td>2011</td>\n",
              "      <td>0.477332</td>\n",
              "      <td>0.331826</td>\n",
              "      <td>0.086073</td>\n",
              "      <td>1.349421</td>\n",
              "      <td>4.090013e-01</td>\n",
              "    </tr>\n",
              "    <tr>\n",
              "      <th>20</th>\n",
              "      <td>PAY_4</td>\n",
              "      <td>0</td>\n",
              "      <td>1</td>\n",
              "      <td>10035</td>\n",
              "      <td>1741</td>\n",
              "      <td>0.173493</td>\n",
              "      <td>8294</td>\n",
              "      <td>0.826507</td>\n",
              "      <td>0.262357</td>\n",
              "      <td>0.354991</td>\n",
              "      <td>-0.302386</td>\n",
              "      <td>3.551753e-01</td>\n",
              "    </tr>\n",
              "    <tr>\n",
              "      <th>21</th>\n",
              "      <td>PAY_4</td>\n",
              "      <td>2</td>\n",
              "      <td>2</td>\n",
              "      <td>16455</td>\n",
              "      <td>3016</td>\n",
              "      <td>0.183288</td>\n",
              "      <td>13439</td>\n",
              "      <td>0.816712</td>\n",
              "      <td>0.454491</td>\n",
              "      <td>0.575201</td>\n",
              "      <td>-0.235542</td>\n",
              "      <td>3.551753e-01</td>\n",
              "    </tr>\n",
              "    <tr>\n",
              "      <th>22</th>\n",
              "      <td>PAY_4</td>\n",
              "      <td>3</td>\n",
              "      <td>10</td>\n",
              "      <td>3510</td>\n",
              "      <td>1879</td>\n",
              "      <td>0.535328</td>\n",
              "      <td>1631</td>\n",
              "      <td>0.464672</td>\n",
              "      <td>0.283153</td>\n",
              "      <td>0.069808</td>\n",
              "      <td>1.400233</td>\n",
              "      <td>3.551753e-01</td>\n",
              "    </tr>\n",
              "    <tr>\n",
              "      <th>23</th>\n",
              "      <td>PAY_5</td>\n",
              "      <td>0</td>\n",
              "      <td>1</td>\n",
              "      <td>10085</td>\n",
              "      <td>1792</td>\n",
              "      <td>0.177690</td>\n",
              "      <td>8293</td>\n",
              "      <td>0.822310</td>\n",
              "      <td>0.270042</td>\n",
              "      <td>0.354948</td>\n",
              "      <td>-0.273392</td>\n",
              "      <td>3.293346e-01</td>\n",
              "    </tr>\n",
              "    <tr>\n",
              "      <th>24</th>\n",
              "      <td>PAY_5</td>\n",
              "      <td>2</td>\n",
              "      <td>2</td>\n",
              "      <td>16947</td>\n",
              "      <td>3195</td>\n",
              "      <td>0.188529</td>\n",
              "      <td>13752</td>\n",
              "      <td>0.811471</td>\n",
              "      <td>0.481465</td>\n",
              "      <td>0.588598</td>\n",
              "      <td>-0.200910</td>\n",
              "      <td>3.293346e-01</td>\n",
              "    </tr>\n",
              "    <tr>\n",
              "      <th>25</th>\n",
              "      <td>PAY_5</td>\n",
              "      <td>4</td>\n",
              "      <td>10</td>\n",
              "      <td>2968</td>\n",
              "      <td>1649</td>\n",
              "      <td>0.555593</td>\n",
              "      <td>1319</td>\n",
              "      <td>0.444407</td>\n",
              "      <td>0.248493</td>\n",
              "      <td>0.056454</td>\n",
              "      <td>1.481982</td>\n",
              "      <td>3.293346e-01</td>\n",
              "    </tr>\n",
              "    <tr>\n",
              "      <th>26</th>\n",
              "      <td>PAY_6</td>\n",
              "      <td>0</td>\n",
              "      <td>1</td>\n",
              "      <td>10635</td>\n",
              "      <td>1956</td>\n",
              "      <td>0.183921</td>\n",
              "      <td>8679</td>\n",
              "      <td>0.816079</td>\n",
              "      <td>0.294756</td>\n",
              "      <td>0.371469</td>\n",
              "      <td>-0.231318</td>\n",
              "      <td>2.817483e-01</td>\n",
              "    </tr>\n",
              "    <tr>\n",
              "      <th>27</th>\n",
              "      <td>PAY_6</td>\n",
              "      <td>2</td>\n",
              "      <td>2</td>\n",
              "      <td>16286</td>\n",
              "      <td>3069</td>\n",
              "      <td>0.188444</td>\n",
              "      <td>13217</td>\n",
              "      <td>0.811556</td>\n",
              "      <td>0.462477</td>\n",
              "      <td>0.565699</td>\n",
              "      <td>-0.201465</td>\n",
              "      <td>2.817483e-01</td>\n",
              "    </tr>\n",
              "    <tr>\n",
              "      <th>28</th>\n",
              "      <td>PAY_6</td>\n",
              "      <td>4</td>\n",
              "      <td>10</td>\n",
              "      <td>3079</td>\n",
              "      <td>1611</td>\n",
              "      <td>0.523222</td>\n",
              "      <td>1468</td>\n",
              "      <td>0.476778</td>\n",
              "      <td>0.242767</td>\n",
              "      <td>0.062832</td>\n",
              "      <td>1.351641</td>\n",
              "      <td>2.817483e-01</td>\n",
              "    </tr>\n",
              "    <tr>\n",
              "      <th>29</th>\n",
              "      <td>BILL_AMT1</td>\n",
              "      <td>-165580</td>\n",
              "      <td>3558</td>\n",
              "      <td>7500</td>\n",
              "      <td>1725</td>\n",
              "      <td>0.230000</td>\n",
              "      <td>5775</td>\n",
              "      <td>0.770000</td>\n",
              "      <td>0.259946</td>\n",
              "      <td>0.247175</td>\n",
              "      <td>0.050376</td>\n",
              "      <td>5.095047e-03</td>\n",
              "    </tr>\n",
              "    <tr>\n",
              "      <th>...</th>\n",
              "      <td>...</td>\n",
              "      <td>...</td>\n",
              "      <td>...</td>\n",
              "      <td>...</td>\n",
              "      <td>...</td>\n",
              "      <td>...</td>\n",
              "      <td>...</td>\n",
              "      <td>...</td>\n",
              "      <td>...</td>\n",
              "      <td>...</td>\n",
              "      <td>...</td>\n",
              "      <td>...</td>\n",
              "    </tr>\n",
              "    <tr>\n",
              "      <th>59</th>\n",
              "      <td>PAY_AMT5</td>\n",
              "      <td>0</td>\n",
              "      <td>251</td>\n",
              "      <td>7500</td>\n",
              "      <td>2127</td>\n",
              "      <td>0.283600</td>\n",
              "      <td>5373</td>\n",
              "      <td>0.716400</td>\n",
              "      <td>0.320524</td>\n",
              "      <td>0.229969</td>\n",
              "      <td>0.332013</td>\n",
              "      <td>7.598817e-02</td>\n",
              "    </tr>\n",
              "    <tr>\n",
              "      <th>60</th>\n",
              "      <td>PAY_AMT5</td>\n",
              "      <td>253</td>\n",
              "      <td>1500</td>\n",
              "      <td>7546</td>\n",
              "      <td>1794</td>\n",
              "      <td>0.237742</td>\n",
              "      <td>5752</td>\n",
              "      <td>0.762258</td>\n",
              "      <td>0.270344</td>\n",
              "      <td>0.246191</td>\n",
              "      <td>0.093587</td>\n",
              "      <td>7.598817e-02</td>\n",
              "    </tr>\n",
              "    <tr>\n",
              "      <th>61</th>\n",
              "      <td>PAY_AMT5</td>\n",
              "      <td>1501</td>\n",
              "      <td>4031</td>\n",
              "      <td>7454</td>\n",
              "      <td>1554</td>\n",
              "      <td>0.208479</td>\n",
              "      <td>5900</td>\n",
              "      <td>0.791521</td>\n",
              "      <td>0.234177</td>\n",
              "      <td>0.252525</td>\n",
              "      <td>-0.075433</td>\n",
              "      <td>7.598817e-02</td>\n",
              "    </tr>\n",
              "    <tr>\n",
              "      <th>62</th>\n",
              "      <td>PAY_AMT5</td>\n",
              "      <td>4033</td>\n",
              "      <td>426529</td>\n",
              "      <td>7500</td>\n",
              "      <td>1161</td>\n",
              "      <td>0.154800</td>\n",
              "      <td>6339</td>\n",
              "      <td>0.845200</td>\n",
              "      <td>0.174955</td>\n",
              "      <td>0.271315</td>\n",
              "      <td>-0.438752</td>\n",
              "      <td>7.598817e-02</td>\n",
              "    </tr>\n",
              "    <tr>\n",
              "      <th>63</th>\n",
              "      <td>PAY_AMT6</td>\n",
              "      <td>0</td>\n",
              "      <td>117</td>\n",
              "      <td>7500</td>\n",
              "      <td>2155</td>\n",
              "      <td>0.287333</td>\n",
              "      <td>5345</td>\n",
              "      <td>0.712667</td>\n",
              "      <td>0.324744</td>\n",
              "      <td>0.228771</td>\n",
              "      <td>0.350316</td>\n",
              "      <td>8.992179e-02</td>\n",
              "    </tr>\n",
              "    <tr>\n",
              "      <th>64</th>\n",
              "      <td>PAY_AMT6</td>\n",
              "      <td>118</td>\n",
              "      <td>1500</td>\n",
              "      <td>7742</td>\n",
              "      <td>1864</td>\n",
              "      <td>0.240765</td>\n",
              "      <td>5878</td>\n",
              "      <td>0.759235</td>\n",
              "      <td>0.280892</td>\n",
              "      <td>0.251584</td>\n",
              "      <td>0.110195</td>\n",
              "      <td>8.992179e-02</td>\n",
              "    </tr>\n",
              "    <tr>\n",
              "      <th>65</th>\n",
              "      <td>PAY_AMT6</td>\n",
              "      <td>1501</td>\n",
              "      <td>4000</td>\n",
              "      <td>7275</td>\n",
              "      <td>1506</td>\n",
              "      <td>0.207010</td>\n",
              "      <td>5769</td>\n",
              "      <td>0.792990</td>\n",
              "      <td>0.226944</td>\n",
              "      <td>0.246918</td>\n",
              "      <td>-0.084355</td>\n",
              "      <td>8.992179e-02</td>\n",
              "    </tr>\n",
              "    <tr>\n",
              "      <th>66</th>\n",
              "      <td>PAY_AMT6</td>\n",
              "      <td>4001</td>\n",
              "      <td>528666</td>\n",
              "      <td>7483</td>\n",
              "      <td>1111</td>\n",
              "      <td>0.148470</td>\n",
              "      <td>6372</td>\n",
              "      <td>0.851530</td>\n",
              "      <td>0.167420</td>\n",
              "      <td>0.272727</td>\n",
              "      <td>-0.487966</td>\n",
              "      <td>8.992179e-02</td>\n",
              "    </tr>\n",
              "    <tr>\n",
              "      <th>67</th>\n",
              "      <td>EDUCATION_0</td>\n",
              "      <td>0</td>\n",
              "      <td>0</td>\n",
              "      <td>29986</td>\n",
              "      <td>6636</td>\n",
              "      <td>0.221303</td>\n",
              "      <td>23350</td>\n",
              "      <td>0.778697</td>\n",
              "      <td>1.000000</td>\n",
              "      <td>0.999401</td>\n",
              "      <td>0.000599</td>\n",
              "      <td>3.591632e-07</td>\n",
              "    </tr>\n",
              "    <tr>\n",
              "      <th>68</th>\n",
              "      <td>EDUCATION_0</td>\n",
              "      <td>1</td>\n",
              "      <td>1</td>\n",
              "      <td>14</td>\n",
              "      <td>0</td>\n",
              "      <td>0.000000</td>\n",
              "      <td>14</td>\n",
              "      <td>1.000000</td>\n",
              "      <td>0.000000</td>\n",
              "      <td>0.000599</td>\n",
              "      <td>0.000000</td>\n",
              "      <td>3.591632e-07</td>\n",
              "    </tr>\n",
              "    <tr>\n",
              "      <th>69</th>\n",
              "      <td>EDUCATION_1</td>\n",
              "      <td>0</td>\n",
              "      <td>0</td>\n",
              "      <td>19415</td>\n",
              "      <td>4600</td>\n",
              "      <td>0.236930</td>\n",
              "      <td>14815</td>\n",
              "      <td>0.763070</td>\n",
              "      <td>0.693189</td>\n",
              "      <td>0.634095</td>\n",
              "      <td>0.089103</td>\n",
              "      <td>1.567415e-02</td>\n",
              "    </tr>\n",
              "    <tr>\n",
              "      <th>70</th>\n",
              "      <td>EDUCATION_1</td>\n",
              "      <td>1</td>\n",
              "      <td>1</td>\n",
              "      <td>10585</td>\n",
              "      <td>2036</td>\n",
              "      <td>0.192348</td>\n",
              "      <td>8549</td>\n",
              "      <td>0.807652</td>\n",
              "      <td>0.306811</td>\n",
              "      <td>0.365905</td>\n",
              "      <td>-0.176140</td>\n",
              "      <td>1.567415e-02</td>\n",
              "    </tr>\n",
              "    <tr>\n",
              "      <th>71</th>\n",
              "      <td>EDUCATION_2</td>\n",
              "      <td>0</td>\n",
              "      <td>0</td>\n",
              "      <td>15970</td>\n",
              "      <td>3306</td>\n",
              "      <td>0.207013</td>\n",
              "      <td>12664</td>\n",
              "      <td>0.792987</td>\n",
              "      <td>0.498192</td>\n",
              "      <td>0.542030</td>\n",
              "      <td>-0.084337</td>\n",
              "      <td>7.704794e-03</td>\n",
              "    </tr>\n",
              "    <tr>\n",
              "      <th>72</th>\n",
              "      <td>EDUCATION_2</td>\n",
              "      <td>1</td>\n",
              "      <td>1</td>\n",
              "      <td>14030</td>\n",
              "      <td>3330</td>\n",
              "      <td>0.237349</td>\n",
              "      <td>10700</td>\n",
              "      <td>0.762651</td>\n",
              "      <td>0.501808</td>\n",
              "      <td>0.457970</td>\n",
              "      <td>0.091416</td>\n",
              "      <td>7.704794e-03</td>\n",
              "    </tr>\n",
              "    <tr>\n",
              "      <th>73</th>\n",
              "      <td>EDUCATION_3</td>\n",
              "      <td>0</td>\n",
              "      <td>0</td>\n",
              "      <td>25083</td>\n",
              "      <td>5399</td>\n",
              "      <td>0.215245</td>\n",
              "      <td>19684</td>\n",
              "      <td>0.784755</td>\n",
              "      <td>0.813593</td>\n",
              "      <td>0.842493</td>\n",
              "      <td>-0.034905</td>\n",
              "      <td>5.877396e-03</td>\n",
              "    </tr>\n",
              "    <tr>\n",
              "      <th>74</th>\n",
              "      <td>EDUCATION_3</td>\n",
              "      <td>1</td>\n",
              "      <td>1</td>\n",
              "      <td>4917</td>\n",
              "      <td>1237</td>\n",
              "      <td>0.251576</td>\n",
              "      <td>3680</td>\n",
              "      <td>0.748424</td>\n",
              "      <td>0.186407</td>\n",
              "      <td>0.157507</td>\n",
              "      <td>0.168463</td>\n",
              "      <td>5.877396e-03</td>\n",
              "    </tr>\n",
              "    <tr>\n",
              "      <th>75</th>\n",
              "      <td>EDUCATION_4</td>\n",
              "      <td>0</td>\n",
              "      <td>0</td>\n",
              "      <td>29877</td>\n",
              "      <td>6629</td>\n",
              "      <td>0.221876</td>\n",
              "      <td>23248</td>\n",
              "      <td>0.778124</td>\n",
              "      <td>0.998945</td>\n",
              "      <td>0.995035</td>\n",
              "      <td>0.003922</td>\n",
              "      <td>6.071976e-03</td>\n",
              "    </tr>\n",
              "    <tr>\n",
              "      <th>76</th>\n",
              "      <td>EDUCATION_4</td>\n",
              "      <td>1</td>\n",
              "      <td>1</td>\n",
              "      <td>123</td>\n",
              "      <td>7</td>\n",
              "      <td>0.056911</td>\n",
              "      <td>116</td>\n",
              "      <td>0.943089</td>\n",
              "      <td>0.001055</td>\n",
              "      <td>0.004965</td>\n",
              "      <td>-1.548993</td>\n",
              "      <td>6.071976e-03</td>\n",
              "    </tr>\n",
              "    <tr>\n",
              "      <th>77</th>\n",
              "      <td>EDUCATION_5</td>\n",
              "      <td>0</td>\n",
              "      <td>0</td>\n",
              "      <td>29720</td>\n",
              "      <td>6618</td>\n",
              "      <td>0.222678</td>\n",
              "      <td>23102</td>\n",
              "      <td>0.777322</td>\n",
              "      <td>0.997288</td>\n",
              "      <td>0.988786</td>\n",
              "      <td>0.008561</td>\n",
              "      <td>1.213863e-02</td>\n",
              "    </tr>\n",
              "    <tr>\n",
              "      <th>78</th>\n",
              "      <td>EDUCATION_5</td>\n",
              "      <td>1</td>\n",
              "      <td>1</td>\n",
              "      <td>280</td>\n",
              "      <td>18</td>\n",
              "      <td>0.064286</td>\n",
              "      <td>262</td>\n",
              "      <td>0.935714</td>\n",
              "      <td>0.002712</td>\n",
              "      <td>0.011214</td>\n",
              "      <td>-1.419286</td>\n",
              "      <td>1.213863e-02</td>\n",
              "    </tr>\n",
              "    <tr>\n",
              "      <th>79</th>\n",
              "      <td>EDUCATION_6</td>\n",
              "      <td>0</td>\n",
              "      <td>0</td>\n",
              "      <td>29949</td>\n",
              "      <td>6628</td>\n",
              "      <td>0.221310</td>\n",
              "      <td>23321</td>\n",
              "      <td>0.778690</td>\n",
              "      <td>0.998794</td>\n",
              "      <td>0.998160</td>\n",
              "      <td>0.000636</td>\n",
              "      <td>2.690088e-04</td>\n",
              "    </tr>\n",
              "    <tr>\n",
              "      <th>80</th>\n",
              "      <td>EDUCATION_6</td>\n",
              "      <td>1</td>\n",
              "      <td>1</td>\n",
              "      <td>51</td>\n",
              "      <td>8</td>\n",
              "      <td>0.156863</td>\n",
              "      <td>43</td>\n",
              "      <td>0.843137</td>\n",
              "      <td>0.001206</td>\n",
              "      <td>0.001840</td>\n",
              "      <td>-0.423072</td>\n",
              "      <td>2.690088e-04</td>\n",
              "    </tr>\n",
              "    <tr>\n",
              "      <th>81</th>\n",
              "      <td>MARRIAGE_0</td>\n",
              "      <td>0</td>\n",
              "      <td>0</td>\n",
              "      <td>29946</td>\n",
              "      <td>6631</td>\n",
              "      <td>0.221432</td>\n",
              "      <td>23315</td>\n",
              "      <td>0.778568</td>\n",
              "      <td>0.999247</td>\n",
              "      <td>0.997903</td>\n",
              "      <td>0.001346</td>\n",
              "      <td>1.377427e-03</td>\n",
              "    </tr>\n",
              "    <tr>\n",
              "      <th>82</th>\n",
              "      <td>MARRIAGE_0</td>\n",
              "      <td>1</td>\n",
              "      <td>1</td>\n",
              "      <td>54</td>\n",
              "      <td>5</td>\n",
              "      <td>0.092593</td>\n",
              "      <td>49</td>\n",
              "      <td>0.907407</td>\n",
              "      <td>0.000753</td>\n",
              "      <td>0.002097</td>\n",
              "      <td>-1.023695</td>\n",
              "      <td>1.377427e-03</td>\n",
              "    </tr>\n",
              "    <tr>\n",
              "      <th>83</th>\n",
              "      <td>MARRIAGE_1</td>\n",
              "      <td>0</td>\n",
              "      <td>0</td>\n",
              "      <td>16341</td>\n",
              "      <td>3430</td>\n",
              "      <td>0.209901</td>\n",
              "      <td>12911</td>\n",
              "      <td>0.790099</td>\n",
              "      <td>0.516878</td>\n",
              "      <td>0.552602</td>\n",
              "      <td>-0.066832</td>\n",
              "      <td>5.132005e-03</td>\n",
              "    </tr>\n",
              "    <tr>\n",
              "      <th>84</th>\n",
              "      <td>MARRIAGE_1</td>\n",
              "      <td>1</td>\n",
              "      <td>1</td>\n",
              "      <td>13659</td>\n",
              "      <td>3206</td>\n",
              "      <td>0.234717</td>\n",
              "      <td>10453</td>\n",
              "      <td>0.765283</td>\n",
              "      <td>0.483122</td>\n",
              "      <td>0.447398</td>\n",
              "      <td>0.076822</td>\n",
              "      <td>5.132005e-03</td>\n",
              "    </tr>\n",
              "    <tr>\n",
              "      <th>85</th>\n",
              "      <td>MARRIAGE_2</td>\n",
              "      <td>0</td>\n",
              "      <td>0</td>\n",
              "      <td>14036</td>\n",
              "      <td>3295</td>\n",
              "      <td>0.234753</td>\n",
              "      <td>10741</td>\n",
              "      <td>0.765247</td>\n",
              "      <td>0.496534</td>\n",
              "      <td>0.459724</td>\n",
              "      <td>0.077025</td>\n",
              "      <td>5.432682e-03</td>\n",
              "    </tr>\n",
              "    <tr>\n",
              "      <th>86</th>\n",
              "      <td>MARRIAGE_2</td>\n",
              "      <td>1</td>\n",
              "      <td>1</td>\n",
              "      <td>15964</td>\n",
              "      <td>3341</td>\n",
              "      <td>0.209283</td>\n",
              "      <td>12623</td>\n",
              "      <td>0.790717</td>\n",
              "      <td>0.503466</td>\n",
              "      <td>0.540276</td>\n",
              "      <td>-0.070563</td>\n",
              "      <td>5.432682e-03</td>\n",
              "    </tr>\n",
              "    <tr>\n",
              "      <th>87</th>\n",
              "      <td>MARRIAGE_3</td>\n",
              "      <td>0</td>\n",
              "      <td>0</td>\n",
              "      <td>29677</td>\n",
              "      <td>6552</td>\n",
              "      <td>0.220777</td>\n",
              "      <td>23125</td>\n",
              "      <td>0.779223</td>\n",
              "      <td>0.987342</td>\n",
              "      <td>0.989771</td>\n",
              "      <td>-0.002457</td>\n",
              "      <td>5.234028e-04</td>\n",
              "    </tr>\n",
              "    <tr>\n",
              "      <th>88</th>\n",
              "      <td>MARRIAGE_3</td>\n",
              "      <td>1</td>\n",
              "      <td>1</td>\n",
              "      <td>323</td>\n",
              "      <td>84</td>\n",
              "      <td>0.260062</td>\n",
              "      <td>239</td>\n",
              "      <td>0.739938</td>\n",
              "      <td>0.012658</td>\n",
              "      <td>0.010229</td>\n",
              "      <td>0.213040</td>\n",
              "      <td>5.234028e-04</td>\n",
              "    </tr>\n",
              "  </tbody>\n",
              "</table>\n",
              "<p>89 rows × 12 columns</p>\n",
              "</div>"
            ],
            "text/plain": [
              "       VAR_NAME  MIN_VALUE  MAX_VALUE  ...  DIST_NON_EVENT       WOE            IV\n",
              "0     LIMIT_BAL      10000      30000  ...        0.112053  0.676765  1.753614e-01\n",
              "1     LIMIT_BAL      40000      50000  ...        0.112053  0.273008  1.753614e-01\n",
              "2     LIMIT_BAL      60000      80000  ...        0.099170  0.202742  1.753614e-01\n",
              "3     LIMIT_BAL      90000     120000  ...        0.096901  0.152538  1.753614e-01\n",
              "4     LIMIT_BAL     130000     160000  ...        0.112609 -0.137923  1.753614e-01\n",
              "5     LIMIT_BAL     170000     200000  ...        0.116033 -0.295500  1.753614e-01\n",
              "6     LIMIT_BAL     210000     260000  ...        0.122368 -0.359181  1.753614e-01\n",
              "7     LIMIT_BAL     270000     360000  ...        0.135422 -0.480137  1.753614e-01\n",
              "8     LIMIT_BAL     370000    1000000  ...        0.093392 -0.745730  1.753614e-01\n",
              "9           SEX          1          1  ...        0.385850  0.115154  9.179578e-03\n",
              "10          SEX          2          2  ...        0.614150 -0.079777  9.179578e-03\n",
              "11          AGE         21         34  ...        0.527521 -0.037733  1.528468e-03\n",
              "12          AGE         35         79  ...        0.472479  0.040512  1.528468e-03\n",
              "13        PAY_1          0          2  ...        0.854948 -0.570459  6.842083e-01\n",
              "14        PAY_1          3         10  ...        0.145052  1.270421  6.842083e-01\n",
              "15        PAY_2          0          2  ...        0.916025 -0.379282  5.408814e-01\n",
              "16        PAY_2          3         10  ...        0.083975  1.491367  5.408814e-01\n",
              "17        PAY_3          0          1  ...        0.356959 -0.341798  4.090013e-01\n",
              "18        PAY_3          2          2  ...        0.556968 -0.295297  4.090013e-01\n",
              "19        PAY_3          3         10  ...        0.086073  1.349421  4.090013e-01\n",
              "20        PAY_4          0          1  ...        0.354991 -0.302386  3.551753e-01\n",
              "21        PAY_4          2          2  ...        0.575201 -0.235542  3.551753e-01\n",
              "22        PAY_4          3         10  ...        0.069808  1.400233  3.551753e-01\n",
              "23        PAY_5          0          1  ...        0.354948 -0.273392  3.293346e-01\n",
              "24        PAY_5          2          2  ...        0.588598 -0.200910  3.293346e-01\n",
              "25        PAY_5          4         10  ...        0.056454  1.481982  3.293346e-01\n",
              "26        PAY_6          0          1  ...        0.371469 -0.231318  2.817483e-01\n",
              "27        PAY_6          2          2  ...        0.565699 -0.201465  2.817483e-01\n",
              "28        PAY_6          4         10  ...        0.062832  1.351641  2.817483e-01\n",
              "29    BILL_AMT1    -165580       3558  ...        0.247175  0.050376  5.095047e-03\n",
              "..          ...        ...        ...  ...             ...       ...           ...\n",
              "59     PAY_AMT5          0        251  ...        0.229969  0.332013  7.598817e-02\n",
              "60     PAY_AMT5        253       1500  ...        0.246191  0.093587  7.598817e-02\n",
              "61     PAY_AMT5       1501       4031  ...        0.252525 -0.075433  7.598817e-02\n",
              "62     PAY_AMT5       4033     426529  ...        0.271315 -0.438752  7.598817e-02\n",
              "63     PAY_AMT6          0        117  ...        0.228771  0.350316  8.992179e-02\n",
              "64     PAY_AMT6        118       1500  ...        0.251584  0.110195  8.992179e-02\n",
              "65     PAY_AMT6       1501       4000  ...        0.246918 -0.084355  8.992179e-02\n",
              "66     PAY_AMT6       4001     528666  ...        0.272727 -0.487966  8.992179e-02\n",
              "67  EDUCATION_0          0          0  ...        0.999401  0.000599  3.591632e-07\n",
              "68  EDUCATION_0          1          1  ...        0.000599  0.000000  3.591632e-07\n",
              "69  EDUCATION_1          0          0  ...        0.634095  0.089103  1.567415e-02\n",
              "70  EDUCATION_1          1          1  ...        0.365905 -0.176140  1.567415e-02\n",
              "71  EDUCATION_2          0          0  ...        0.542030 -0.084337  7.704794e-03\n",
              "72  EDUCATION_2          1          1  ...        0.457970  0.091416  7.704794e-03\n",
              "73  EDUCATION_3          0          0  ...        0.842493 -0.034905  5.877396e-03\n",
              "74  EDUCATION_3          1          1  ...        0.157507  0.168463  5.877396e-03\n",
              "75  EDUCATION_4          0          0  ...        0.995035  0.003922  6.071976e-03\n",
              "76  EDUCATION_4          1          1  ...        0.004965 -1.548993  6.071976e-03\n",
              "77  EDUCATION_5          0          0  ...        0.988786  0.008561  1.213863e-02\n",
              "78  EDUCATION_5          1          1  ...        0.011214 -1.419286  1.213863e-02\n",
              "79  EDUCATION_6          0          0  ...        0.998160  0.000636  2.690088e-04\n",
              "80  EDUCATION_6          1          1  ...        0.001840 -0.423072  2.690088e-04\n",
              "81   MARRIAGE_0          0          0  ...        0.997903  0.001346  1.377427e-03\n",
              "82   MARRIAGE_0          1          1  ...        0.002097 -1.023695  1.377427e-03\n",
              "83   MARRIAGE_1          0          0  ...        0.552602 -0.066832  5.132005e-03\n",
              "84   MARRIAGE_1          1          1  ...        0.447398  0.076822  5.132005e-03\n",
              "85   MARRIAGE_2          0          0  ...        0.459724  0.077025  5.432682e-03\n",
              "86   MARRIAGE_2          1          1  ...        0.540276 -0.070563  5.432682e-03\n",
              "87   MARRIAGE_3          0          0  ...        0.989771 -0.002457  5.234028e-04\n",
              "88   MARRIAGE_3          1          1  ...        0.010229  0.213040  5.234028e-04\n",
              "\n",
              "[89 rows x 12 columns]"
            ]
          },
          "metadata": {
            "tags": []
          },
          "execution_count": 42
        }
      ]
    },
    {
      "cell_type": "code",
      "metadata": {
        "colab_type": "code",
        "id": "_smAW7Bhfm1G",
        "outputId": "bce546f0-015e-4d48-eaae-b1d865b2359c",
        "colab": {
          "base_uri": "https://localhost:8080/",
          "height": 1000
        }
      },
      "source": [
        "IV.sort_values('IV')"
      ],
      "execution_count": 43,
      "outputs": [
        {
          "output_type": "execute_result",
          "data": {
            "text/html": [
              "<div>\n",
              "<style scoped>\n",
              "    .dataframe tbody tr th:only-of-type {\n",
              "        vertical-align: middle;\n",
              "    }\n",
              "\n",
              "    .dataframe tbody tr th {\n",
              "        vertical-align: top;\n",
              "    }\n",
              "\n",
              "    .dataframe thead th {\n",
              "        text-align: right;\n",
              "    }\n",
              "</style>\n",
              "<table border=\"1\" class=\"dataframe\">\n",
              "  <thead>\n",
              "    <tr style=\"text-align: right;\">\n",
              "      <th></th>\n",
              "      <th>VAR_NAME</th>\n",
              "      <th>IV</th>\n",
              "    </tr>\n",
              "  </thead>\n",
              "  <tbody>\n",
              "    <tr>\n",
              "      <th>7</th>\n",
              "      <td>EDUCATION_0</td>\n",
              "      <td>3.591632e-07</td>\n",
              "    </tr>\n",
              "    <tr>\n",
              "      <th>4</th>\n",
              "      <td>BILL_AMT4</td>\n",
              "      <td>5.661074e-05</td>\n",
              "    </tr>\n",
              "    <tr>\n",
              "      <th>3</th>\n",
              "      <td>BILL_AMT3</td>\n",
              "      <td>1.940948e-04</td>\n",
              "    </tr>\n",
              "    <tr>\n",
              "      <th>13</th>\n",
              "      <td>EDUCATION_6</td>\n",
              "      <td>2.690088e-04</td>\n",
              "    </tr>\n",
              "    <tr>\n",
              "      <th>5</th>\n",
              "      <td>BILL_AMT5</td>\n",
              "      <td>4.367304e-04</td>\n",
              "    </tr>\n",
              "    <tr>\n",
              "      <th>18</th>\n",
              "      <td>MARRIAGE_3</td>\n",
              "      <td>5.234028e-04</td>\n",
              "    </tr>\n",
              "    <tr>\n",
              "      <th>2</th>\n",
              "      <td>BILL_AMT2</td>\n",
              "      <td>8.651334e-04</td>\n",
              "    </tr>\n",
              "    <tr>\n",
              "      <th>15</th>\n",
              "      <td>MARRIAGE_0</td>\n",
              "      <td>1.377427e-03</td>\n",
              "    </tr>\n",
              "    <tr>\n",
              "      <th>0</th>\n",
              "      <td>AGE</td>\n",
              "      <td>1.528468e-03</td>\n",
              "    </tr>\n",
              "    <tr>\n",
              "      <th>6</th>\n",
              "      <td>BILL_AMT6</td>\n",
              "      <td>2.050740e-03</td>\n",
              "    </tr>\n",
              "    <tr>\n",
              "      <th>1</th>\n",
              "      <td>BILL_AMT1</td>\n",
              "      <td>5.095047e-03</td>\n",
              "    </tr>\n",
              "    <tr>\n",
              "      <th>16</th>\n",
              "      <td>MARRIAGE_1</td>\n",
              "      <td>5.132005e-03</td>\n",
              "    </tr>\n",
              "    <tr>\n",
              "      <th>17</th>\n",
              "      <td>MARRIAGE_2</td>\n",
              "      <td>5.432682e-03</td>\n",
              "    </tr>\n",
              "    <tr>\n",
              "      <th>10</th>\n",
              "      <td>EDUCATION_3</td>\n",
              "      <td>5.877396e-03</td>\n",
              "    </tr>\n",
              "    <tr>\n",
              "      <th>11</th>\n",
              "      <td>EDUCATION_4</td>\n",
              "      <td>6.071976e-03</td>\n",
              "    </tr>\n",
              "    <tr>\n",
              "      <th>9</th>\n",
              "      <td>EDUCATION_2</td>\n",
              "      <td>7.704794e-03</td>\n",
              "    </tr>\n",
              "    <tr>\n",
              "      <th>31</th>\n",
              "      <td>SEX</td>\n",
              "      <td>9.179578e-03</td>\n",
              "    </tr>\n",
              "    <tr>\n",
              "      <th>12</th>\n",
              "      <td>EDUCATION_5</td>\n",
              "      <td>1.213863e-02</td>\n",
              "    </tr>\n",
              "    <tr>\n",
              "      <th>8</th>\n",
              "      <td>EDUCATION_1</td>\n",
              "      <td>1.567415e-02</td>\n",
              "    </tr>\n",
              "    <tr>\n",
              "      <th>29</th>\n",
              "      <td>PAY_AMT5</td>\n",
              "      <td>7.598817e-02</td>\n",
              "    </tr>\n",
              "    <tr>\n",
              "      <th>30</th>\n",
              "      <td>PAY_AMT6</td>\n",
              "      <td>8.992179e-02</td>\n",
              "    </tr>\n",
              "    <tr>\n",
              "      <th>28</th>\n",
              "      <td>PAY_AMT4</td>\n",
              "      <td>9.400597e-02</td>\n",
              "    </tr>\n",
              "    <tr>\n",
              "      <th>27</th>\n",
              "      <td>PAY_AMT3</td>\n",
              "      <td>1.130124e-01</td>\n",
              "    </tr>\n",
              "    <tr>\n",
              "      <th>26</th>\n",
              "      <td>PAY_AMT2</td>\n",
              "      <td>1.289982e-01</td>\n",
              "    </tr>\n",
              "    <tr>\n",
              "      <th>25</th>\n",
              "      <td>PAY_AMT1</td>\n",
              "      <td>1.428892e-01</td>\n",
              "    </tr>\n",
              "    <tr>\n",
              "      <th>14</th>\n",
              "      <td>LIMIT_BAL</td>\n",
              "      <td>1.753614e-01</td>\n",
              "    </tr>\n",
              "    <tr>\n",
              "      <th>24</th>\n",
              "      <td>PAY_6</td>\n",
              "      <td>2.817483e-01</td>\n",
              "    </tr>\n",
              "    <tr>\n",
              "      <th>23</th>\n",
              "      <td>PAY_5</td>\n",
              "      <td>3.293346e-01</td>\n",
              "    </tr>\n",
              "    <tr>\n",
              "      <th>22</th>\n",
              "      <td>PAY_4</td>\n",
              "      <td>3.551753e-01</td>\n",
              "    </tr>\n",
              "    <tr>\n",
              "      <th>21</th>\n",
              "      <td>PAY_3</td>\n",
              "      <td>4.090013e-01</td>\n",
              "    </tr>\n",
              "    <tr>\n",
              "      <th>20</th>\n",
              "      <td>PAY_2</td>\n",
              "      <td>5.408814e-01</td>\n",
              "    </tr>\n",
              "    <tr>\n",
              "      <th>19</th>\n",
              "      <td>PAY_1</td>\n",
              "      <td>6.842083e-01</td>\n",
              "    </tr>\n",
              "  </tbody>\n",
              "</table>\n",
              "</div>"
            ],
            "text/plain": [
              "       VAR_NAME            IV\n",
              "7   EDUCATION_0  3.591632e-07\n",
              "4     BILL_AMT4  5.661074e-05\n",
              "3     BILL_AMT3  1.940948e-04\n",
              "13  EDUCATION_6  2.690088e-04\n",
              "5     BILL_AMT5  4.367304e-04\n",
              "18   MARRIAGE_3  5.234028e-04\n",
              "2     BILL_AMT2  8.651334e-04\n",
              "15   MARRIAGE_0  1.377427e-03\n",
              "0           AGE  1.528468e-03\n",
              "6     BILL_AMT6  2.050740e-03\n",
              "1     BILL_AMT1  5.095047e-03\n",
              "16   MARRIAGE_1  5.132005e-03\n",
              "17   MARRIAGE_2  5.432682e-03\n",
              "10  EDUCATION_3  5.877396e-03\n",
              "11  EDUCATION_4  6.071976e-03\n",
              "9   EDUCATION_2  7.704794e-03\n",
              "31          SEX  9.179578e-03\n",
              "12  EDUCATION_5  1.213863e-02\n",
              "8   EDUCATION_1  1.567415e-02\n",
              "29     PAY_AMT5  7.598817e-02\n",
              "30     PAY_AMT6  8.992179e-02\n",
              "28     PAY_AMT4  9.400597e-02\n",
              "27     PAY_AMT3  1.130124e-01\n",
              "26     PAY_AMT2  1.289982e-01\n",
              "25     PAY_AMT1  1.428892e-01\n",
              "14    LIMIT_BAL  1.753614e-01\n",
              "24        PAY_6  2.817483e-01\n",
              "23        PAY_5  3.293346e-01\n",
              "22        PAY_4  3.551753e-01\n",
              "21        PAY_3  4.090013e-01\n",
              "20        PAY_2  5.408814e-01\n",
              "19        PAY_1  6.842083e-01"
            ]
          },
          "metadata": {
            "tags": []
          },
          "execution_count": 43
        }
      ]
    },
    {
      "cell_type": "markdown",
      "metadata": {
        "colab_type": "text",
        "id": "s_kaOwnkOqYQ"
      },
      "source": [
        "## **Outlier** analysis"
      ]
    },
    {
      "cell_type": "code",
      "metadata": {
        "colab_type": "code",
        "id": "YovHREbvrear",
        "colab": {}
      },
      "source": [
        "from sklearn.ensemble import IsolationForest\n",
        "from sklearn.covariance import EllipticEnvelope\n",
        "from sklearn.cluster import DBSCAN\n",
        "from sklearn.preprocessing import StandardScaler\n",
        "from sklearn.svm import OneClassSVM\n",
        "from sklearn.neighbors import LocalOutlierFactor"
      ],
      "execution_count": 0,
      "outputs": []
    },
    {
      "cell_type": "markdown",
      "metadata": {
        "colab_type": "text",
        "id": "OivP0hYPPNw5"
      },
      "source": [
        "Two functions that statistically identify outliers in pandas series using std and IQR."
      ]
    },
    {
      "cell_type": "code",
      "metadata": {
        "colab_type": "code",
        "id": "OftD1WiVPG-D",
        "colab": {}
      },
      "source": [
        "def out_std(s, nstd=3.0, return_thresholds=False):\n",
        "  data_mean, data_std = s.mean(), s.std()\n",
        "  cut_off = data_std * nstd\n",
        "  lower, upper = data_mean - cut_off, data_mean + cut_off\n",
        "  if return_thresholds:\n",
        "     return lower, upper\n",
        "  else:\n",
        "     return [True if x < lower or x > upper else False for x in s]"
      ],
      "execution_count": 0,
      "outputs": []
    },
    {
      "cell_type": "code",
      "metadata": {
        "colab_type": "code",
        "id": "e7pqZXc7PpGi",
        "colab": {}
      },
      "source": [
        "def out_iqr(s, k=1.5, return_thresholds=False):\n",
        "  # calculate interquartile range\n",
        "    q25, q75 = np.percentile(s, 25), np.percentile(s, 75)\n",
        "    iqr = q75 - q25\n",
        "    # calculate the outlier cutoff\n",
        "    cut_off = iqr * k\n",
        "    lower, upper = q25 - cut_off, q75 + cut_off\n",
        "    if return_thresholds:\n",
        "        return lower, upper\n",
        "    else: # identify outliers\n",
        "        return [True if x < lower or x > upper else False for x in s]"
      ],
      "execution_count": 0,
      "outputs": []
    },
    {
      "cell_type": "code",
      "metadata": {
        "colab_type": "code",
        "id": "T6rAMANwgyks",
        "outputId": "492d9f8c-717d-4338-dcc5-28b97d568dcd",
        "colab": {
          "base_uri": "https://localhost:8080/",
          "height": 34
        }
      },
      "source": [
        "outlier_mask = out_std(data['LIMIT_BAL'], nstd=3.0)\n",
        "outlier_mask[:10]"
      ],
      "execution_count": 47,
      "outputs": [
        {
          "output_type": "execute_result",
          "data": {
            "text/plain": [
              "[False, False, False, False, False, False, False, False, False, False]"
            ]
          },
          "metadata": {
            "tags": []
          },
          "execution_count": 47
        }
      ]
    },
    {
      "cell_type": "code",
      "metadata": {
        "colab_type": "code",
        "id": "3nDpfDj2hgMV",
        "outputId": "eb20e6cc-307d-43fb-b508-fd624fef0fd7",
        "colab": {
          "base_uri": "https://localhost:8080/",
          "height": 1000
        }
      },
      "source": [
        "data['LIMIT_BAL'][outlier_mask]"
      ],
      "execution_count": 48,
      "outputs": [
        {
          "output_type": "execute_result",
          "data": {
            "text/plain": [
              "ID\n",
              "13        630000\n",
              "434       580000\n",
              "452       600000\n",
              "528       620000\n",
              "556       630000\n",
              "738       610000\n",
              "812       700000\n",
              "1096      670000\n",
              "1232      680000\n",
              "1348      630000\n",
              "1905      580000\n",
              "1993      580000\n",
              "2198     1000000\n",
              "2223      600000\n",
              "2352      580000\n",
              "3315      600000\n",
              "3403      710000\n",
              "3406      560000\n",
              "3690      710000\n",
              "3734      750000\n",
              "4034      710000\n",
              "4252      580000\n",
              "4604      750000\n",
              "4755      680000\n",
              "4860      640000\n",
              "5334      580000\n",
              "5809      640000\n",
              "5879      710000\n",
              "6080      670000\n",
              "6638      610000\n",
              "          ...   \n",
              "23894     620000\n",
              "24224     580000\n",
              "24321     780000\n",
              "24409     620000\n",
              "24554     600000\n",
              "24684     590000\n",
              "24687     730000\n",
              "25127     740000\n",
              "25487     600000\n",
              "26033     650000\n",
              "26113     720000\n",
              "26137     600000\n",
              "26177     670000\n",
              "26228     610000\n",
              "26873     560000\n",
              "26922     720000\n",
              "27098     580000\n",
              "27460     700000\n",
              "27558     730000\n",
              "28562     640000\n",
              "28716     780000\n",
              "28823     590000\n",
              "29012     580000\n",
              "29137     610000\n",
              "29405     610000\n",
              "29572     570000\n",
              "29741     620000\n",
              "29862     650000\n",
              "29887     630000\n",
              "29964     610000\n",
              "Name: LIMIT_BAL, Length: 130, dtype: int64"
            ]
          },
          "metadata": {
            "tags": []
          },
          "execution_count": 48
        }
      ]
    },
    {
      "cell_type": "code",
      "metadata": {
        "colab_type": "code",
        "id": "aQPCzvflhu0P",
        "outputId": "61678d78-5e27-428a-dbe6-cf340f4b49ce",
        "colab": {
          "base_uri": "https://localhost:8080/",
          "height": 409
        }
      },
      "source": [
        "plt.figure(figsize=(8,6))\n",
        "sns.distplot(data['LIMIT_BAL'], kde=False);\n",
        "plt.vlines(data['LIMIT_BAL'][outlier_mask], ymin=0, ymax=4000, linestyles='dashed')"
      ],
      "execution_count": 49,
      "outputs": [
        {
          "output_type": "execute_result",
          "data": {
            "text/plain": [
              "<matplotlib.collections.LineCollection at 0x7f82ecbcc9b0>"
            ]
          },
          "metadata": {
            "tags": []
          },
          "execution_count": 49
        },
        {
          "output_type": "display_data",
          "data": {
            "image/png": "[encoded data removed]",
            "text/plain": [
              "<Figure size 576x432 with 1 Axes>"
            ]
          },
          "metadata": {
            "tags": []
          }
        }
      ]
    },
    {
      "cell_type": "markdown",
      "metadata": {
        "id": "eaW4nMlBjQBj",
        "colab_type": "text"
      },
      "source": [
        "## LR without sampling"
      ]
    },
    {
      "cell_type": "code",
      "metadata": {
        "id": "UQFWynjUjQBl",
        "colab_type": "code",
        "colab": {}
      },
      "source": [
        "X_unsamples=df.drop('default',axis=1)\n",
        "y_unsamples=df.default"
      ],
      "execution_count": 0,
      "outputs": []
    },
    {
      "cell_type": "code",
      "metadata": {
        "id": "lW-DoXu5jQBr",
        "colab_type": "code",
        "outputId": "7dac89f7-90c0-4a44-f935-4642dc075227",
        "colab": {
          "base_uri": "https://localhost:8080/",
          "height": 34
        }
      },
      "source": [
        "X_unsamples.shape"
      ],
      "execution_count": 53,
      "outputs": [
        {
          "output_type": "execute_result",
          "data": {
            "text/plain": [
              "(30000, 32)"
            ]
          },
          "metadata": {
            "tags": []
          },
          "execution_count": 53
        }
      ]
    },
    {
      "cell_type": "code",
      "metadata": {
        "id": "fLw5u52vjQBt",
        "colab_type": "code",
        "colab": {}
      },
      "source": [
        "X_train1,X_test1,y_train1,y_test1=train_test_split(X_unsamples,y_unsamples,test_size=0.3,random_state=1234)"
      ],
      "execution_count": 0,
      "outputs": []
    },
    {
      "cell_type": "code",
      "metadata": {
        "id": "HqokRlPKjQBv",
        "colab_type": "code",
        "outputId": "9f958c6f-3db1-49d3-9203-44fb75bc9574",
        "colab": {
          "base_uri": "https://localhost:8080/",
          "height": 34
        }
      },
      "source": [
        "X_train1.shape,y_train1.shape"
      ],
      "execution_count": 55,
      "outputs": [
        {
          "output_type": "execute_result",
          "data": {
            "text/plain": [
              "((21000, 32), (21000,))"
            ]
          },
          "metadata": {
            "tags": []
          },
          "execution_count": 55
        }
      ]
    },
    {
      "cell_type": "code",
      "metadata": {
        "id": "zVM_nlCejQBx",
        "colab_type": "code",
        "colab": {}
      },
      "source": [
        "lr=LogisticRegression()"
      ],
      "execution_count": 0,
      "outputs": []
    },
    {
      "cell_type": "code",
      "metadata": {
        "id": "wUFR5xkkjQBz",
        "colab_type": "code",
        "colab": {}
      },
      "source": [
        "lr_model1=lr.fit(X_train1,y_train1)"
      ],
      "execution_count": 0,
      "outputs": []
    },
    {
      "cell_type": "code",
      "metadata": {
        "id": "xveblRd3jQB7",
        "colab_type": "code",
        "colab": {}
      },
      "source": [
        "pred_1=lr_model1.predict(X_test1)"
      ],
      "execution_count": 0,
      "outputs": []
    },
    {
      "cell_type": "code",
      "metadata": {
        "id": "IWkPA4MAjQB_",
        "colab_type": "code",
        "outputId": "2ea3207e-d506-4b28-de7b-71826c4ab7d6",
        "colab": {
          "base_uri": "https://localhost:8080/",
          "height": 34
        }
      },
      "source": [
        "accuracy_score(y_test1,pred_1)"
      ],
      "execution_count": 59,
      "outputs": [
        {
          "output_type": "execute_result",
          "data": {
            "text/plain": [
              "0.7763333333333333"
            ]
          },
          "metadata": {
            "tags": []
          },
          "execution_count": 59
        }
      ]
    },
    {
      "cell_type": "code",
      "metadata": {
        "id": "amzpwxvHjQCC",
        "colab_type": "code",
        "outputId": "2276f32f-d81c-4fd3-d9ff-c4465ac0cc41",
        "colab": {
          "base_uri": "https://localhost:8080/",
          "height": 51
        }
      },
      "source": [
        "confusion_matrix(y_test1, pred_1)"
      ],
      "execution_count": 60,
      "outputs": [
        {
          "output_type": "execute_result",
          "data": {
            "text/plain": [
              "array([[6987,    0],\n",
              "       [2013,    0]])"
            ]
          },
          "metadata": {
            "tags": []
          },
          "execution_count": 60
        }
      ]
    },
    {
      "cell_type": "code",
      "metadata": {
        "id": "cbXu2j4UjQCF",
        "colab_type": "code",
        "colab": {}
      },
      "source": [
        "from sklearn.metrics import classification_report"
      ],
      "execution_count": 0,
      "outputs": []
    },
    {
      "cell_type": "code",
      "metadata": {
        "id": "0csa7usYjQCH",
        "colab_type": "code",
        "outputId": "dc18c7e9-4575-4c32-fae9-d5d54cbcd288",
        "colab": {
          "base_uri": "https://localhost:8080/",
          "height": 224
        }
      },
      "source": [
        "# create classification report\n",
        "print(classification_report(y_test1, pred_1, target_names=['not default', 'default']))"
      ],
      "execution_count": 62,
      "outputs": [
        {
          "output_type": "stream",
          "text": [
            "              precision    recall  f1-score   support\n",
            "\n",
            " not default       0.78      1.00      0.87      6987\n",
            "     default       0.00      0.00      0.00      2013\n",
            "\n",
            "    accuracy                           0.78      9000\n",
            "   macro avg       0.39      0.50      0.44      9000\n",
            "weighted avg       0.60      0.78      0.68      9000\n",
            "\n"
          ],
          "name": "stdout"
        },
        {
          "output_type": "stream",
          "text": [
            "/usr/local/lib/python3.6/dist-packages/sklearn/metrics/classification.py:1437: UndefinedMetricWarning: Precision and F-score are ill-defined and being set to 0.0 in labels with no predicted samples.\n",
            "  'precision', 'predicted', average, warn_for)\n"
          ],
          "name": "stderr"
        }
      ]
    },
    {
      "cell_type": "markdown",
      "metadata": {
        "id": "S_NfCbUnjQCK",
        "colab_type": "text"
      },
      "source": [
        "## Decision Tree with out sampling"
      ]
    },
    {
      "cell_type": "code",
      "metadata": {
        "id": "SGxNVJe0jQCL",
        "colab_type": "code",
        "colab": {}
      },
      "source": [
        "from sklearn.tree import DecisionTreeClassifier \n",
        "from sklearn.ensemble import RandomForestClassifier"
      ],
      "execution_count": 0,
      "outputs": []
    },
    {
      "cell_type": "code",
      "metadata": {
        "id": "YW0jVDNtjQCR",
        "colab_type": "code",
        "colab": {}
      },
      "source": [
        "DT=DecisionTreeClassifier()"
      ],
      "execution_count": 0,
      "outputs": []
    },
    {
      "cell_type": "code",
      "metadata": {
        "id": "9kLwj7w9jQCT",
        "colab_type": "code",
        "colab": {}
      },
      "source": [
        "DT1=DT.fit(X_train1,y_train1)"
      ],
      "execution_count": 0,
      "outputs": []
    },
    {
      "cell_type": "code",
      "metadata": {
        "id": "JTzCUN_fjQCV",
        "colab_type": "code",
        "colab": {}
      },
      "source": [
        "predydt1=DT1.predict(X_test1)"
      ],
      "execution_count": 0,
      "outputs": []
    },
    {
      "cell_type": "code",
      "metadata": {
        "id": "Kot3BwJYjQCY",
        "colab_type": "code",
        "outputId": "250acbd8-4cdf-46cf-a71a-e54d2143aa33",
        "colab": {
          "base_uri": "https://localhost:8080/",
          "height": 170
        }
      },
      "source": [
        "print(classification_report(y_test1,predydt1))"
      ],
      "execution_count": 67,
      "outputs": [
        {
          "output_type": "stream",
          "text": [
            "              precision    recall  f1-score   support\n",
            "\n",
            "           0       0.83      0.81      0.82      6987\n",
            "           1       0.41      0.44      0.42      2013\n",
            "\n",
            "    accuracy                           0.73      9000\n",
            "   macro avg       0.62      0.63      0.62      9000\n",
            "weighted avg       0.74      0.73      0.73      9000\n",
            "\n"
          ],
          "name": "stdout"
        }
      ]
    },
    {
      "cell_type": "markdown",
      "metadata": {
        "id": "jaXDXmx4jQCb",
        "colab_type": "text"
      },
      "source": [
        "## Random Forest  with out sampling\n",
        "\n",
        "\n"
      ]
    },
    {
      "cell_type": "code",
      "metadata": {
        "id": "4KOPm4GhjQCc",
        "colab_type": "code",
        "colab": {}
      },
      "source": [
        "rf = RandomForestClassifier()"
      ],
      "execution_count": 0,
      "outputs": []
    },
    {
      "cell_type": "code",
      "metadata": {
        "id": "Sy06wp1WjQCf",
        "colab_type": "code",
        "outputId": "9e2f4d9b-5307-4b20-80aa-bdebbc436286",
        "colab": {
          "base_uri": "https://localhost:8080/",
          "height": 224
        }
      },
      "source": [
        "rf1=rf.fit(X_train1,y_train1)\n",
        "predyrf1=rf1.predict(X_test1)\n",
        "print(classification_report(y_test1,predyrf1))"
      ],
      "execution_count": 69,
      "outputs": [
        {
          "output_type": "stream",
          "text": [
            "/usr/local/lib/python3.6/dist-packages/sklearn/ensemble/forest.py:245: FutureWarning: The default value of n_estimators will change from 10 in version 0.20 to 100 in 0.22.\n",
            "  \"10 in version 0.20 to 100 in 0.22.\", FutureWarning)\n"
          ],
          "name": "stderr"
        },
        {
          "output_type": "stream",
          "text": [
            "              precision    recall  f1-score   support\n",
            "\n",
            "           0       0.83      0.94      0.88      6987\n",
            "           1       0.61      0.34      0.43      2013\n",
            "\n",
            "    accuracy                           0.80      9000\n",
            "   macro avg       0.72      0.64      0.66      9000\n",
            "weighted avg       0.78      0.80      0.78      9000\n",
            "\n"
          ],
          "name": "stdout"
        }
      ]
    },
    {
      "cell_type": "markdown",
      "metadata": {
        "id": "FVw5kTDcjQCi",
        "colab_type": "text"
      },
      "source": [
        "## LogisticRegression With balanced"
      ]
    },
    {
      "cell_type": "code",
      "metadata": {
        "id": "OK4o4vBYjQCj",
        "colab_type": "code",
        "colab": {}
      },
      "source": [
        "lr_balanced=LogisticRegression(class_weight='balanced')"
      ],
      "execution_count": 0,
      "outputs": []
    },
    {
      "cell_type": "code",
      "metadata": {
        "colab_type": "code",
        "id": "3gxRAT_2DB3i",
        "outputId": "ee958172-79de-4be0-c61a-26d9ff9777b0",
        "colab": {
          "base_uri": "https://localhost:8080/",
          "height": 292
        }
      },
      "source": [
        "lr_model2=lr_balanced.fit(X_train1,y_train1)\n",
        "pred_2=lr_model2.predict(X_test1)\n",
        "print(\"Accuracy_score:\",accuracy_score(y_test1,pred_2))\n",
        "print(\"Confusion_matrix:\\n\",confusion_matrix(y_test1, pred_2))\n",
        "print(classification_report(y_test1, pred_2, target_names=['not default', 'default']))"
      ],
      "execution_count": 71,
      "outputs": [
        {
          "output_type": "stream",
          "text": [
            "/usr/local/lib/python3.6/dist-packages/sklearn/linear_model/logistic.py:432: FutureWarning: Default solver will be changed to 'lbfgs' in 0.22. Specify a solver to silence this warning.\n",
            "  FutureWarning)\n"
          ],
          "name": "stderr"
        },
        {
          "output_type": "stream",
          "text": [
            "Accuracy_score: 0.6118888888888889\n",
            "Confusion_matrix:\n",
            " [[4139 2848]\n",
            " [ 645 1368]]\n",
            "              precision    recall  f1-score   support\n",
            "\n",
            " not default       0.87      0.59      0.70      6987\n",
            "     default       0.32      0.68      0.44      2013\n",
            "\n",
            "    accuracy                           0.61      9000\n",
            "   macro avg       0.59      0.64      0.57      9000\n",
            "weighted avg       0.74      0.61      0.64      9000\n",
            "\n"
          ],
          "name": "stdout"
        }
      ]
    },
    {
      "cell_type": "markdown",
      "metadata": {
        "id": "Y3VriFoeN5Ph",
        "colab_type": "text"
      },
      "source": [
        "## Decision Tree With balanced"
      ]
    },
    {
      "cell_type": "code",
      "metadata": {
        "id": "GGM14--3jQCt",
        "colab_type": "code",
        "colab": {}
      },
      "source": [
        "DT2=DecisionTreeClassifier(class_weight='balanced')"
      ],
      "execution_count": 0,
      "outputs": []
    },
    {
      "cell_type": "code",
      "metadata": {
        "id": "T0Q1TprBjQCx",
        "colab_type": "code",
        "outputId": "a7ae8b05-b379-4552-9340-6ca8eadcb423",
        "colab": {
          "base_uri": "https://localhost:8080/",
          "height": 170
        }
      },
      "source": [
        "DT22=DT2.fit(X_train1,y_train1)\n",
        "predydt2=DT1.predict(X_test1)\n",
        "print(classification_report(y_test1,predydt2))"
      ],
      "execution_count": 73,
      "outputs": [
        {
          "output_type": "stream",
          "text": [
            "              precision    recall  f1-score   support\n",
            "\n",
            "           0       0.83      0.81      0.82      6987\n",
            "           1       0.41      0.44      0.42      2013\n",
            "\n",
            "    accuracy                           0.73      9000\n",
            "   macro avg       0.62      0.63      0.62      9000\n",
            "weighted avg       0.74      0.73      0.73      9000\n",
            "\n"
          ],
          "name": "stdout"
        }
      ]
    },
    {
      "cell_type": "markdown",
      "metadata": {
        "id": "cSMKkW5jjQCy",
        "colab_type": "text"
      },
      "source": [
        "# Random Forest"
      ]
    },
    {
      "cell_type": "code",
      "metadata": {
        "id": "ddH7kIgljQCz",
        "colab_type": "code",
        "outputId": "3cdf99ec-3620-4717-d1de-34e0306b0d41",
        "colab": {
          "base_uri": "https://localhost:8080/",
          "height": 170
        }
      },
      "source": [
        "rf1=rf.fit(X_train1,y_train1)\n",
        "predyrf1=rf1.predict(X_test1)\n",
        "print(classification_report(y_test1,predyrf1))"
      ],
      "execution_count": 74,
      "outputs": [
        {
          "output_type": "stream",
          "text": [
            "              precision    recall  f1-score   support\n",
            "\n",
            "           0       0.83      0.94      0.88      6987\n",
            "           1       0.62      0.34      0.44      2013\n",
            "\n",
            "    accuracy                           0.81      9000\n",
            "   macro avg       0.73      0.64      0.66      9000\n",
            "weighted avg       0.78      0.81      0.78      9000\n",
            "\n"
          ],
          "name": "stdout"
        }
      ]
    },
    {
      "cell_type": "code",
      "metadata": {
        "id": "JJD9yqgT2lL0",
        "colab_type": "code",
        "colab": {}
      },
      "source": [
        "X=df.drop('default',axis=1)\n",
        "y=df.default"
      ],
      "execution_count": 0,
      "outputs": []
    },
    {
      "cell_type": "markdown",
      "metadata": {
        "id": "iNSBYKGjjQC0",
        "colab_type": "text"
      },
      "source": [
        "# Using upsampling:"
      ]
    },
    {
      "cell_type": "code",
      "metadata": {
        "id": "IZyjuF3Z2lm5",
        "colab_type": "code",
        "colab": {}
      },
      "source": [
        "X_train,X_test,y_train,y_test=train_test_split(X,y,stratify=y,test_size=0.3,random_state=1234)"
      ],
      "execution_count": 0,
      "outputs": []
    },
    {
      "cell_type": "code",
      "metadata": {
        "id": "2DTaOGop-byv",
        "colab_type": "code",
        "colab": {
          "base_uri": "https://localhost:8080/",
          "height": 34
        },
        "outputId": "0fd6d278-e3c3-451a-cc85-ea1cbb494872"
      },
      "source": [
        "X_train.shape,X_test.shape"
      ],
      "execution_count": 157,
      "outputs": [
        {
          "output_type": "execute_result",
          "data": {
            "text/plain": [
              "((21000, 32), (9000, 32))"
            ]
          },
          "metadata": {
            "tags": []
          },
          "execution_count": 157
        }
      ]
    },
    {
      "cell_type": "code",
      "metadata": {
        "id": "nvDE0bP0Ei4E",
        "colab_type": "code",
        "colab": {
          "base_uri": "https://localhost:8080/",
          "height": 68
        },
        "outputId": "2c20f84c-6376-46c7-f037-c943d4dddd02"
      },
      "source": [
        "y_train.value_counts()"
      ],
      "execution_count": 197,
      "outputs": [
        {
          "output_type": "execute_result",
          "data": {
            "text/plain": [
              "0    16355\n",
              "1     4645\n",
              "Name: default, dtype: int64"
            ]
          },
          "metadata": {
            "tags": []
          },
          "execution_count": 197
        }
      ]
    },
    {
      "cell_type": "code",
      "metadata": {
        "id": "4Upf5jpXjQC1",
        "colab_type": "code",
        "colab": {}
      },
      "source": [
        "# Separate majority and minority classes\n",
        "y_majority = y_train[y_train==0]\n",
        "y_minority = y_train[y_train==1]"
      ],
      "execution_count": 0,
      "outputs": []
    },
    {
      "cell_type": "code",
      "metadata": {
        "id": "8yV71WncjQC3",
        "colab_type": "code",
        "colab": {}
      },
      "source": [
        "from sklearn.utils import resample"
      ],
      "execution_count": 0,
      "outputs": []
    },
    {
      "cell_type": "code",
      "metadata": {
        "id": "etMhavCQjQC9",
        "colab_type": "code",
        "colab": {}
      },
      "source": [
        "# Upsample minority class\n",
        "y_minority_upsampled = resample(y_minority, \n",
        "                                 replace=True,     # sample with replacement\n",
        "                                 n_samples=4645,    # to match majority class\n",
        "                                 random_state=1234) # reproducible results"
      ],
      "execution_count": 0,
      "outputs": []
    },
    {
      "cell_type": "code",
      "metadata": {
        "colab_type": "code",
        "id": "WOqlZPb3DD3z",
        "colab": {}
      },
      "source": [
        "# Combine majority class with upsampled minority class\n",
        "y_upsampled = pd.concat([y_majority, y_minority_upsampled])"
      ],
      "execution_count": 0,
      "outputs": []
    },
    {
      "cell_type": "code",
      "metadata": {
        "id": "dgwK6KxXGCEB",
        "colab_type": "code",
        "colab": {
          "base_uri": "https://localhost:8080/",
          "height": 34
        },
        "outputId": "f9bcab3d-4827-487a-9bbf-6f54940e98d5"
      },
      "source": [
        "y_upsampled.shape,X_train.shape"
      ],
      "execution_count": 205,
      "outputs": [
        {
          "output_type": "execute_result",
          "data": {
            "text/plain": [
              "((21000,), (21000, 32))"
            ]
          },
          "metadata": {
            "tags": []
          },
          "execution_count": 205
        }
      ]
    },
    {
      "cell_type": "markdown",
      "metadata": {
        "id": "-aFYu7jrOUTq",
        "colab_type": "text"
      },
      "source": [
        "## LogisticRegression upsampling"
      ]
    },
    {
      "cell_type": "code",
      "metadata": {
        "colab_type": "code",
        "id": "xtnxgRx0EMCF",
        "outputId": "5a7d182a-f683-4849-ad97-a07836675878",
        "colab": {
          "base_uri": "https://localhost:8080/",
          "height": 71
        }
      },
      "source": [
        "clf_2 = LogisticRegression().fit(X_train, y_upsampled)"
      ],
      "execution_count": 207,
      "outputs": [
        {
          "output_type": "stream",
          "text": [
            "/usr/local/lib/python3.6/dist-packages/sklearn/linear_model/logistic.py:432: FutureWarning: Default solver will be changed to 'lbfgs' in 0.22. Specify a solver to silence this warning.\n",
            "  FutureWarning)\n"
          ],
          "name": "stderr"
        }
      ]
    },
    {
      "cell_type": "code",
      "metadata": {
        "colab_type": "code",
        "id": "E3ITCpE6EWHO",
        "colab": {}
      },
      "source": [
        "pred_y_2 = clf_2.predict(X_test)"
      ],
      "execution_count": 0,
      "outputs": []
    },
    {
      "cell_type": "code",
      "metadata": {
        "colab_type": "code",
        "id": "m4HqurxREqZl",
        "outputId": "2b7e2387-0c4b-4645-a3db-ed76fcc1210f",
        "colab": {
          "base_uri": "https://localhost:8080/",
          "height": 34
        }
      },
      "source": [
        "accuracy_score(y_test, pred_y_2)"
      ],
      "execution_count": 211,
      "outputs": [
        {
          "output_type": "execute_result",
          "data": {
            "text/plain": [
              "0.7787777777777778"
            ]
          },
          "metadata": {
            "tags": []
          },
          "execution_count": 211
        }
      ]
    },
    {
      "cell_type": "code",
      "metadata": {
        "colab_type": "code",
        "id": "yAT1vzgKL_jn",
        "outputId": "9cd1c2e6-b2f5-4b6c-9772-b888faeb3ce6",
        "colab": {
          "base_uri": "https://localhost:8080/",
          "height": 51
        }
      },
      "source": [
        "confusion_matrix(y_test, pred_y_2)"
      ],
      "execution_count": 212,
      "outputs": [
        {
          "output_type": "execute_result",
          "data": {
            "text/plain": [
              "array([[7009,    0],\n",
              "       [1991,    0]])"
            ]
          },
          "metadata": {
            "tags": []
          },
          "execution_count": 212
        }
      ]
    },
    {
      "cell_type": "code",
      "metadata": {
        "colab_type": "code",
        "id": "yHuG9Uo1NQdX",
        "outputId": "1db70e92-3e39-4b3c-e56e-f5bcbad2207e",
        "colab": {
          "base_uri": "https://localhost:8080/",
          "height": 224
        }
      },
      "source": [
        "print(classification_report(y_test, pred_y_2))"
      ],
      "execution_count": 213,
      "outputs": [
        {
          "output_type": "stream",
          "text": [
            "              precision    recall  f1-score   support\n",
            "\n",
            "           0       0.78      1.00      0.88      7009\n",
            "           1       0.00      0.00      0.00      1991\n",
            "\n",
            "    accuracy                           0.78      9000\n",
            "   macro avg       0.39      0.50      0.44      9000\n",
            "weighted avg       0.61      0.78      0.68      9000\n",
            "\n"
          ],
          "name": "stdout"
        },
        {
          "output_type": "stream",
          "text": [
            "/usr/local/lib/python3.6/dist-packages/sklearn/metrics/classification.py:1437: UndefinedMetricWarning: Precision and F-score are ill-defined and being set to 0.0 in labels with no predicted samples.\n",
            "  'precision', 'predicted', average, warn_for)\n"
          ],
          "name": "stderr"
        }
      ]
    },
    {
      "cell_type": "markdown",
      "metadata": {
        "id": "pJ555xRkjQDg",
        "colab_type": "text"
      },
      "source": [
        "## Decision Tree with upsampling"
      ]
    },
    {
      "cell_type": "code",
      "metadata": {
        "id": "R54vmU98jQDg",
        "colab_type": "code",
        "outputId": "48d7b2b9-c464-42cb-b5f0-83b70e85cfa2",
        "colab": {
          "base_uri": "https://localhost:8080/",
          "height": 170
        }
      },
      "source": [
        "DTupsampled=DT2.fit(X_train, y_upsampled)\n",
        "predydt3=DTupsampled.predict(X_test)\n",
        "print(classification_report(y_test,predydt3))"
      ],
      "execution_count": 215,
      "outputs": [
        {
          "output_type": "stream",
          "text": [
            "              precision    recall  f1-score   support\n",
            "\n",
            "           0       0.78      0.77      0.78      7009\n",
            "           1       0.21      0.22      0.22      1991\n",
            "\n",
            "    accuracy                           0.65      9000\n",
            "   macro avg       0.50      0.50      0.50      9000\n",
            "weighted avg       0.65      0.65      0.65      9000\n",
            "\n"
          ],
          "name": "stdout"
        }
      ]
    },
    {
      "cell_type": "markdown",
      "metadata": {
        "id": "PzfNM3ntjQDi",
        "colab_type": "text"
      },
      "source": [
        "## Random forest with upsampling"
      ]
    },
    {
      "cell_type": "code",
      "metadata": {
        "id": "sSHTINoHjQDj",
        "colab_type": "code",
        "outputId": "a25fa6c8-98ad-4e1a-e7f5-79f029d9ba1f",
        "colab": {
          "base_uri": "https://localhost:8080/",
          "height": 170
        }
      },
      "source": [
        "rf2=rf.fit(X_train, y_upsampled)\n",
        "predyrf2=rf2.predict(X_test)\n",
        "print(classification_report(y_test,predyrf2))"
      ],
      "execution_count": 216,
      "outputs": [
        {
          "output_type": "stream",
          "text": [
            "              precision    recall  f1-score   support\n",
            "\n",
            "           0       0.78      0.97      0.87      7009\n",
            "           1       0.24      0.03      0.05      1991\n",
            "\n",
            "    accuracy                           0.76      9000\n",
            "   macro avg       0.51      0.50      0.46      9000\n",
            "weighted avg       0.66      0.76      0.69      9000\n",
            "\n"
          ],
          "name": "stdout"
        }
      ]
    },
    {
      "cell_type": "markdown",
      "metadata": {
        "colab_type": "text",
        "id": "9Pomt-WvHrMb"
      },
      "source": [
        "## Smote technique:"
      ]
    },
    {
      "cell_type": "code",
      "metadata": {
        "id": "N-XU1DXojQDk",
        "colab_type": "code",
        "colab": {}
      },
      "source": [
        "X=df.drop(\"default\",axis=1)\n",
        "y=df.default"
      ],
      "execution_count": 0,
      "outputs": []
    },
    {
      "cell_type": "code",
      "metadata": {
        "id": "vFRRJOzvjQDn",
        "colab_type": "code",
        "outputId": "f968098c-a1ed-4eb8-dd2d-47863bb7ae8f",
        "colab": {
          "base_uri": "https://localhost:8080/",
          "height": 71
        }
      },
      "source": [
        "from imblearn.over_sampling import SMOTE"
      ],
      "execution_count": 91,
      "outputs": [
        {
          "output_type": "stream",
          "text": [
            "/usr/local/lib/python3.6/dist-packages/sklearn/externals/six.py:31: DeprecationWarning: The module is deprecated in version 0.21 and will be removed in version 0.23 since we've dropped support for Python 2.7. Please rely on the official version of six (https://pypi.org/project/six/).\n",
            "  \"(https://pypi.org/project/six/).\", DeprecationWarning)\n"
          ],
          "name": "stderr"
        }
      ]
    },
    {
      "cell_type": "code",
      "metadata": {
        "id": "bWpZXP657h-8",
        "colab_type": "code",
        "colab": {}
      },
      "source": [
        "def makeOverSamplesSMOTE(X,y):\n",
        "    X = X_train\n",
        "    y = y_train\n",
        "    sm = SMOTE(random_state=1234)\n",
        "    X, y = sm.fit_sample(X, y)\n",
        "    return X,y"
      ],
      "execution_count": 0,
      "outputs": []
    },
    {
      "cell_type": "code",
      "metadata": {
        "colab_type": "code",
        "id": "7UJRhNSkIxoo",
        "colab": {}
      },
      "source": [
        "Xsmote,ysmote = makeOverSamplesSMOTE(X,y)"
      ],
      "execution_count": 0,
      "outputs": []
    },
    {
      "cell_type": "markdown",
      "metadata": {
        "id": "hNhn3SaeOwK-",
        "colab_type": "text"
      },
      "source": [
        "## LogisticRegression with Smote"
      ]
    },
    {
      "cell_type": "code",
      "metadata": {
        "id": "Dx7OcRAjjQDx",
        "colab_type": "code",
        "colab": {}
      },
      "source": [
        "lr3=LogisticRegression()"
      ],
      "execution_count": 0,
      "outputs": []
    },
    {
      "cell_type": "code",
      "metadata": {
        "id": "fUUljVD7jQD1",
        "colab_type": "code",
        "outputId": "8920679e-36bf-4eb3-f30f-7098b2d3c27b",
        "colab": {
          "base_uri": "https://localhost:8080/",
          "height": 71
        }
      },
      "source": [
        "model3=lr3.fit(Xsmote,ysmote)"
      ],
      "execution_count": 171,
      "outputs": [
        {
          "output_type": "stream",
          "text": [
            "/usr/local/lib/python3.6/dist-packages/sklearn/linear_model/logistic.py:432: FutureWarning: Default solver will be changed to 'lbfgs' in 0.22. Specify a solver to silence this warning.\n",
            "  FutureWarning)\n"
          ],
          "name": "stderr"
        }
      ]
    },
    {
      "cell_type": "code",
      "metadata": {
        "id": "eFkwkVyQjQD2",
        "colab_type": "code",
        "colab": {}
      },
      "source": [
        "pred_y3 = model3.predict(X_test)"
      ],
      "execution_count": 0,
      "outputs": []
    },
    {
      "cell_type": "code",
      "metadata": {
        "id": "qkcsQAeRjQD4",
        "colab_type": "code",
        "outputId": "14c14ca1-6179-4708-9f9c-3902289a6931",
        "colab": {
          "base_uri": "https://localhost:8080/",
          "height": 170
        }
      },
      "source": [
        "print(classification_report(y_test,pred_y3))"
      ],
      "execution_count": 173,
      "outputs": [
        {
          "output_type": "stream",
          "text": [
            "              precision    recall  f1-score   support\n",
            "\n",
            "           0       0.87      0.51      0.64      7009\n",
            "           1       0.30      0.73      0.42      1991\n",
            "\n",
            "    accuracy                           0.56      9000\n",
            "   macro avg       0.58      0.62      0.53      9000\n",
            "weighted avg       0.74      0.56      0.59      9000\n",
            "\n"
          ],
          "name": "stdout"
        }
      ]
    },
    {
      "cell_type": "markdown",
      "metadata": {
        "id": "hHg--5VQjQD7",
        "colab_type": "text"
      },
      "source": [
        "## Decision Tree with Smote"
      ]
    },
    {
      "cell_type": "code",
      "metadata": {
        "id": "wj6ky2ByjQD7",
        "colab_type": "code",
        "outputId": "b38f8cc2-f100-4d04-fc65-ee3ac150d617",
        "colab": {
          "base_uri": "https://localhost:8080/",
          "height": 170
        }
      },
      "source": [
        "DT_smote=DT2.fit(Xsmote,ysmote)\n",
        "predydt4=DT_smote.predict(X_test)\n",
        "print(classification_report(y_test,predydt4))"
      ],
      "execution_count": 174,
      "outputs": [
        {
          "output_type": "stream",
          "text": [
            "              precision    recall  f1-score   support\n",
            "\n",
            "           0       0.83      0.78      0.81      7009\n",
            "           1       0.36      0.44      0.40      1991\n",
            "\n",
            "    accuracy                           0.71      9000\n",
            "   macro avg       0.60      0.61      0.60      9000\n",
            "weighted avg       0.73      0.71      0.71      9000\n",
            "\n"
          ],
          "name": "stdout"
        }
      ]
    },
    {
      "cell_type": "markdown",
      "metadata": {
        "id": "2qRv9yQnjQD9",
        "colab_type": "text"
      },
      "source": [
        "## Random Forest with Smote"
      ]
    },
    {
      "cell_type": "code",
      "metadata": {
        "id": "Gn8zTJmQjQD9",
        "colab_type": "code",
        "outputId": "8e71b564-577e-4b0f-b3e7-7327b88947ee",
        "colab": {
          "base_uri": "https://localhost:8080/",
          "height": 170
        }
      },
      "source": [
        "rf_smote=rf.fit(Xsmote,ysmote)\n",
        "predyrf3=rf_smote.predict(X_test)\n",
        "print(classification_report(y_test,predyrf3))"
      ],
      "execution_count": 175,
      "outputs": [
        {
          "output_type": "stream",
          "text": [
            "              precision    recall  f1-score   support\n",
            "\n",
            "           0       0.84      0.90      0.87      7009\n",
            "           1       0.53      0.38      0.44      1991\n",
            "\n",
            "    accuracy                           0.79      9000\n",
            "   macro avg       0.68      0.64      0.66      9000\n",
            "weighted avg       0.77      0.79      0.78      9000\n",
            "\n"
          ],
          "name": "stdout"
        }
      ]
    },
    {
      "cell_type": "markdown",
      "metadata": {
        "colab_type": "text",
        "id": "S8sawZqyKkPx"
      },
      "source": [
        "## ADASYN "
      ]
    },
    {
      "cell_type": "code",
      "metadata": {
        "id": "ZtcUficsjQD_",
        "colab_type": "code",
        "colab": {}
      },
      "source": [
        "from imblearn.over_sampling import ADASYN"
      ],
      "execution_count": 0,
      "outputs": []
    },
    {
      "cell_type": "code",
      "metadata": {
        "colab_type": "code",
        "id": "TN2ZV0iYIrXk",
        "colab": {}
      },
      "source": [
        "def makeOverSamplesADASYN(X,y):\n",
        "  \n",
        "  X = X_train\n",
        "  y = y_train\n",
        "  sm = ADASYN(random_state=1234)\n",
        "  X, y = sm.fit_sample(X, y)\n",
        "  return X,y"
      ],
      "execution_count": 0,
      "outputs": []
    },
    {
      "cell_type": "code",
      "metadata": {
        "id": "z2dN19Lw-BMX",
        "colab_type": "code",
        "colab": {
          "base_uri": "https://localhost:8080/",
          "height": 34
        },
        "outputId": "d35f658b-2155-48d6-8b74-6eae34bcdb05"
      },
      "source": [
        "X_train.shape,y_train.shape"
      ],
      "execution_count": 159,
      "outputs": [
        {
          "output_type": "execute_result",
          "data": {
            "text/plain": [
              "((21000, 32), (21000,))"
            ]
          },
          "metadata": {
            "tags": []
          },
          "execution_count": 159
        }
      ]
    },
    {
      "cell_type": "code",
      "metadata": {
        "id": "llEeh_SmjQED",
        "colab_type": "code",
        "colab": {}
      },
      "source": [
        "XADASYN,yADASYN = makeOverSamplesADASYN(X,y)"
      ],
      "execution_count": 0,
      "outputs": []
    },
    {
      "cell_type": "markdown",
      "metadata": {
        "id": "Do0HMXuLPDnw",
        "colab_type": "text"
      },
      "source": [
        "## LogisticRegression with ADASYN"
      ]
    },
    {
      "cell_type": "code",
      "metadata": {
        "colab_type": "code",
        "id": "1Jk4kYXWLHZo",
        "outputId": "5c445872-ff15-4227-dece-3e7cc46ed8a4",
        "colab": {
          "base_uri": "https://localhost:8080/",
          "height": 224
        }
      },
      "source": [
        "logAdasyn = LogisticRegression().fit(XADASYN,yADASYN)\n",
        "pred_y4 = logAdasyn.predict(X_test)\n",
        "print(classification_report(y_test,pred_y4))\n"
      ],
      "execution_count": 165,
      "outputs": [
        {
          "output_type": "stream",
          "text": [
            "/usr/local/lib/python3.6/dist-packages/sklearn/linear_model/logistic.py:432: FutureWarning: Default solver will be changed to 'lbfgs' in 0.22. Specify a solver to silence this warning.\n",
            "  FutureWarning)\n"
          ],
          "name": "stderr"
        },
        {
          "output_type": "stream",
          "text": [
            "              precision    recall  f1-score   support\n",
            "\n",
            "           0       0.87      0.49      0.63      7009\n",
            "           1       0.29      0.74      0.42      1991\n",
            "\n",
            "    accuracy                           0.55      9000\n",
            "   macro avg       0.58      0.61      0.52      9000\n",
            "weighted avg       0.74      0.55      0.58      9000\n",
            "\n"
          ],
          "name": "stdout"
        }
      ]
    },
    {
      "cell_type": "markdown",
      "metadata": {
        "id": "pW05YsiCjQEH",
        "colab_type": "text"
      },
      "source": [
        "## Decision Tree with ADASYN"
      ]
    },
    {
      "cell_type": "code",
      "metadata": {
        "colab_type": "code",
        "id": "0nWsEPDdLUdI",
        "outputId": "9c659fa1-ec7d-4e5f-dbf5-5d682514bb33",
        "colab": {
          "base_uri": "https://localhost:8080/",
          "height": 170
        }
      },
      "source": [
        "DT_adasyn=DT2.fit(XADASYN,yADASYN)\n",
        "predydt5=DT_adasyn.predict(X_test)\n",
        "print(classification_report(y_test,predydt5))"
      ],
      "execution_count": 166,
      "outputs": [
        {
          "output_type": "stream",
          "text": [
            "              precision    recall  f1-score   support\n",
            "\n",
            "           0       0.82      0.79      0.81      7009\n",
            "           1       0.36      0.41      0.38      1991\n",
            "\n",
            "    accuracy                           0.70      9000\n",
            "   macro avg       0.59      0.60      0.59      9000\n",
            "weighted avg       0.72      0.70      0.71      9000\n",
            "\n"
          ],
          "name": "stdout"
        }
      ]
    },
    {
      "cell_type": "markdown",
      "metadata": {
        "id": "ddD9TIlPPTnl",
        "colab_type": "text"
      },
      "source": [
        "## Random Forest with ADASYN"
      ]
    },
    {
      "cell_type": "code",
      "metadata": {
        "id": "U7cPQ-61jQEQ",
        "colab_type": "code",
        "outputId": "efdde442-becf-4f28-b927-13dfc4b55785",
        "colab": {
          "base_uri": "https://localhost:8080/",
          "height": 170
        }
      },
      "source": [
        "rf_adasyn=rf.fit(XADASYN,yADASYN)\n",
        "predydt4=rf_adasyn.predict(X_test)\n",
        "print(classification_report(y_test,predydt4))"
      ],
      "execution_count": 167,
      "outputs": [
        {
          "output_type": "stream",
          "text": [
            "              precision    recall  f1-score   support\n",
            "\n",
            "           0       0.84      0.90      0.87      7009\n",
            "           1       0.53      0.39      0.45      1991\n",
            "\n",
            "    accuracy                           0.79      9000\n",
            "   macro avg       0.69      0.65      0.66      9000\n",
            "weighted avg       0.77      0.79      0.78      9000\n",
            "\n"
          ],
          "name": "stdout"
        }
      ]
    },
    {
      "cell_type": "markdown",
      "metadata": {
        "id": "b-Xp4SGIPf3M",
        "colab_type": "text"
      },
      "source": [
        "## SMOTEENN,SMOTETomek"
      ]
    },
    {
      "cell_type": "code",
      "metadata": {
        "id": "Pn4iJV14m7Iw",
        "colab_type": "code",
        "colab": {}
      },
      "source": [
        "from imblearn.combine import SMOTEENN,SMOTETomek"
      ],
      "execution_count": 0,
      "outputs": []
    },
    {
      "cell_type": "code",
      "metadata": {
        "id": "EoOVkAcFnK78",
        "colab_type": "code",
        "colab": {}
      },
      "source": [
        "def makeOverSamplesSmoteenn(X,y):\n",
        "  \n",
        "  X = X_train\n",
        "  y = y_train\n",
        "  sm = SMOTEENN(random_state=123)\n",
        "  X, y = sm.fit_sample(X, y)\n",
        "  return X,y"
      ],
      "execution_count": 0,
      "outputs": []
    },
    {
      "cell_type": "code",
      "metadata": {
        "id": "r_ASeDrCn6rZ",
        "colab_type": "code",
        "colab": {}
      },
      "source": [
        "XSmoteenn,ySmoteenn = makeOverSamplesSmoteenn(X,y)\n"
      ],
      "execution_count": 0,
      "outputs": []
    },
    {
      "cell_type": "markdown",
      "metadata": {
        "id": "RQPlQIblqSVe",
        "colab_type": "text"
      },
      "source": [
        "## Logistic Regression with Smoteenn"
      ]
    },
    {
      "cell_type": "code",
      "metadata": {
        "id": "dDvMHiYMoS27",
        "colab_type": "code",
        "outputId": "307df5e0-1f5e-40a6-eb02-cc58b3798faf",
        "colab": {
          "base_uri": "https://localhost:8080/",
          "height": 224
        }
      },
      "source": [
        "logSmoteenn = LogisticRegression().fit(XSmoteenn,ySmoteenn)\n",
        "pred_y5 = logSmoteenn.predict(X_test)\n",
        "print(classification_report(y_test,pred_y5))\n"
      ],
      "execution_count": 179,
      "outputs": [
        {
          "output_type": "stream",
          "text": [
            "/usr/local/lib/python3.6/dist-packages/sklearn/linear_model/logistic.py:432: FutureWarning: Default solver will be changed to 'lbfgs' in 0.22. Specify a solver to silence this warning.\n",
            "  FutureWarning)\n"
          ],
          "name": "stderr"
        },
        {
          "output_type": "stream",
          "text": [
            "              precision    recall  f1-score   support\n",
            "\n",
            "           0       0.89      0.35      0.50      7009\n",
            "           1       0.27      0.85      0.41      1991\n",
            "\n",
            "    accuracy                           0.46      9000\n",
            "   macro avg       0.58      0.60      0.46      9000\n",
            "weighted avg       0.76      0.46      0.48      9000\n",
            "\n"
          ],
          "name": "stdout"
        }
      ]
    },
    {
      "cell_type": "markdown",
      "metadata": {
        "id": "_L1QBwwLqKp-",
        "colab_type": "text"
      },
      "source": [
        "## Decision tree with Smoteenn"
      ]
    },
    {
      "cell_type": "code",
      "metadata": {
        "id": "iEbusKEPojNx",
        "colab_type": "code",
        "outputId": "03f88afd-e642-4023-b11d-354832e30752",
        "colab": {
          "base_uri": "https://localhost:8080/",
          "height": 170
        }
      },
      "source": [
        "DT_logSmoteenn=DT2.fit(XSmoteenn,ySmoteenn)\n",
        "predydt5=DT_logSmoteenn.predict(X_test)\n",
        "print(classification_report(y_test,predydt5))"
      ],
      "execution_count": 180,
      "outputs": [
        {
          "output_type": "stream",
          "text": [
            "              precision    recall  f1-score   support\n",
            "\n",
            "           0       0.86      0.68      0.76      7009\n",
            "           1       0.35      0.60      0.44      1991\n",
            "\n",
            "    accuracy                           0.66      9000\n",
            "   macro avg       0.60      0.64      0.60      9000\n",
            "weighted avg       0.74      0.66      0.69      9000\n",
            "\n"
          ],
          "name": "stdout"
        }
      ]
    },
    {
      "cell_type": "markdown",
      "metadata": {
        "id": "TsBvCi6JqYma",
        "colab_type": "text"
      },
      "source": [
        "## Random Forest with Smoteenn"
      ]
    },
    {
      "cell_type": "code",
      "metadata": {
        "id": "XCDduMtppcpH",
        "colab_type": "code",
        "outputId": "1be44ce7-9788-4742-b33c-d13a8c39567e",
        "colab": {
          "base_uri": "https://localhost:8080/",
          "height": 170
        }
      },
      "source": [
        "rf_logSmoteenn=rf.fit(XSmoteenn,ySmoteenn)\n",
        "predyrf5=rf_logSmoteenn.predict(X_test)\n",
        "print(classification_report(y_test,predyrf5))"
      ],
      "execution_count": 182,
      "outputs": [
        {
          "output_type": "stream",
          "text": [
            "              precision    recall  f1-score   support\n",
            "\n",
            "           0       0.87      0.78      0.82      7009\n",
            "           1       0.43      0.58      0.49      1991\n",
            "\n",
            "    accuracy                           0.74      9000\n",
            "   macro avg       0.65      0.68      0.66      9000\n",
            "weighted avg       0.77      0.74      0.75      9000\n",
            "\n"
          ],
          "name": "stdout"
        }
      ]
    },
    {
      "cell_type": "code",
      "metadata": {
        "id": "mxp0iGivp_UB",
        "colab_type": "code",
        "colab": {}
      },
      "source": [
        "def makeOverSamplesSMOTETomek(X,y):\n",
        "  \n",
        "  X = X_train\n",
        "  y = y_train\n",
        "  sm = SMOTETomek(random_state=1234)\n",
        "  X, y = sm.fit_sample(X, y)\n",
        "  return X,y"
      ],
      "execution_count": 0,
      "outputs": []
    },
    {
      "cell_type": "code",
      "metadata": {
        "id": "bIs557UgsQ5J",
        "colab_type": "code",
        "colab": {}
      },
      "source": [
        "XSMOTETomek,ySMOTETomek = makeOverSamplesSMOTETomek(X,y)"
      ],
      "execution_count": 0,
      "outputs": []
    },
    {
      "cell_type": "code",
      "metadata": {
        "id": "12b8WsSJsYar",
        "colab_type": "code",
        "outputId": "24677f42-b124-4e09-bd79-fdfe3616515b",
        "colab": {
          "base_uri": "https://localhost:8080/",
          "height": 224
        }
      },
      "source": [
        "logSMOTETomek = LogisticRegression().fit(XSMOTETomek,ySMOTETomek)\n",
        "pred_y6 = logSMOTETomek.predict(X_test)\n",
        "print(classification_report(y_test,pred_y6))"
      ],
      "execution_count": 185,
      "outputs": [
        {
          "output_type": "stream",
          "text": [
            "/usr/local/lib/python3.6/dist-packages/sklearn/linear_model/logistic.py:432: FutureWarning: Default solver will be changed to 'lbfgs' in 0.22. Specify a solver to silence this warning.\n",
            "  FutureWarning)\n"
          ],
          "name": "stderr"
        },
        {
          "output_type": "stream",
          "text": [
            "              precision    recall  f1-score   support\n",
            "\n",
            "           0       0.87      0.50      0.64      7009\n",
            "           1       0.29      0.73      0.42      1991\n",
            "\n",
            "    accuracy                           0.55      9000\n",
            "   macro avg       0.58      0.62      0.53      9000\n",
            "weighted avg       0.74      0.55      0.59      9000\n",
            "\n"
          ],
          "name": "stdout"
        }
      ]
    },
    {
      "cell_type": "code",
      "metadata": {
        "id": "YtSNZTwZvNUq",
        "colab_type": "code",
        "outputId": "de1328e7-530f-4dc9-e9b5-a3def0b1a9a0",
        "colab": {
          "base_uri": "https://localhost:8080/",
          "height": 170
        }
      },
      "source": [
        "DT_logSMOTETomek=DT2.fit(XSMOTETomek,ySMOTETomek)\n",
        "predydt6=DT_logSMOTETomek.predict(X_test)\n",
        "print(classification_report(y_test,predydt6))"
      ],
      "execution_count": 186,
      "outputs": [
        {
          "output_type": "stream",
          "text": [
            "              precision    recall  f1-score   support\n",
            "\n",
            "           0       0.83      0.79      0.81      7009\n",
            "           1       0.37      0.43      0.40      1991\n",
            "\n",
            "    accuracy                           0.71      9000\n",
            "   macro avg       0.60      0.61      0.60      9000\n",
            "weighted avg       0.73      0.71      0.72      9000\n",
            "\n"
          ],
          "name": "stdout"
        }
      ]
    },
    {
      "cell_type": "code",
      "metadata": {
        "id": "pyqvJWMFvkmm",
        "colab_type": "code",
        "outputId": "c18996c6-b153-473b-f4e5-d63aba3bc767",
        "colab": {
          "base_uri": "https://localhost:8080/",
          "height": 170
        }
      },
      "source": [
        "rf_logSMOTETomek=rf.fit(XSMOTETomek,ySMOTETomek)\n",
        "predyrf6=rf_logSMOTETomek.predict(X_test)\n",
        "print(classification_report(y_test,predyrf6))"
      ],
      "execution_count": 187,
      "outputs": [
        {
          "output_type": "stream",
          "text": [
            "              precision    recall  f1-score   support\n",
            "\n",
            "           0       0.84      0.90      0.87      7009\n",
            "           1       0.52      0.38      0.44      1991\n",
            "\n",
            "    accuracy                           0.79      9000\n",
            "   macro avg       0.68      0.64      0.65      9000\n",
            "weighted avg       0.77      0.79      0.77      9000\n",
            "\n"
          ],
          "name": "stdout"
        }
      ]
    },
    {
      "cell_type": "markdown",
      "metadata": {
        "id": "N6s17XpCwlIm",
        "colab_type": "text"
      },
      "source": [
        "Lift gain charts"
      ]
    },
    {
      "cell_type": "code",
      "metadata": {
        "id": "uP2K24pu1BJj",
        "colab_type": "code",
        "colab": {}
      },
      "source": [
        "pip install scikit-plot"
      ],
      "execution_count": 0,
      "outputs": []
    },
    {
      "cell_type": "code",
      "metadata": {
        "id": "yLsLfWC30khz",
        "colab_type": "code",
        "colab": {}
      },
      "source": [
        "import scikitplot as skplt"
      ],
      "execution_count": 0,
      "outputs": []
    },
    {
      "cell_type": "code",
      "metadata": {
        "id": "UT09KYR0v3_N",
        "colab_type": "code",
        "outputId": "1babebf2-4aa2-463e-e503-c443359491ea",
        "colab": {
          "base_uri": "https://localhost:8080/",
          "height": 400
        }
      },
      "source": [
        "lr = LogisticRegression()\n",
        "lr = lr.fit(XSMOTETomek,ySMOTETomek)\n",
        "y_probas = lr.predict_proba(X_test)\n",
        "skplt.metrics.plot_lift_curve(y_test, y_probas)\n",
        "plt.show()"
      ],
      "execution_count": 188,
      "outputs": [
        {
          "output_type": "stream",
          "text": [
            "/usr/local/lib/python3.6/dist-packages/sklearn/linear_model/logistic.py:432: FutureWarning: Default solver will be changed to 'lbfgs' in 0.22. Specify a solver to silence this warning.\n",
            "  FutureWarning)\n",
            "/usr/local/lib/python3.6/dist-packages/matplotlib/cbook/__init__.py:424: MatplotlibDeprecationWarning: \n",
            "Passing one of 'on', 'true', 'off', 'false' as a boolean is deprecated; use an actual boolean (True/False) instead.\n",
            "  warn_deprecated(\"2.2\", \"Passing one of 'on', 'true', 'off', 'false' as a \"\n"
          ],
          "name": "stderr"
        },
        {
          "output_type": "display_data",
          "data": {
            "image/png": "[encoded data removed]",
            "text/plain": [
              "<Figure size 432x288 with 1 Axes>"
            ]
          },
          "metadata": {
            "tags": []
          }
        }
      ]
    },
    {
      "cell_type": "code",
      "metadata": {
        "id": "hRlu7tgYyp4O",
        "colab_type": "code",
        "colab": {}
      },
      "source": [
        ""
      ],
      "execution_count": 0,
      "outputs": []
    }
  ]
}